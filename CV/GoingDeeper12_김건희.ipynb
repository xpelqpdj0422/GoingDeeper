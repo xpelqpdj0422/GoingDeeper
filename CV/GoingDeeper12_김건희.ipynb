{
  "nbformat": 4,
  "nbformat_minor": 0,
  "metadata": {
    "colab": {
      "provenance": [],
      "collapsed_sections": []
    },
    "kernelspec": {
      "name": "python3",
      "display_name": "Python 3"
    },
    "language_info": {
      "name": "python"
    },
    "accelerator": "GPU",
    "gpuClass": "standard"
  },
  "cells": [
    {
      "cell_type": "markdown",
      "source": [
        "# 1. Dataset for OCR\n",
        "\n",
        "OCR은 데이터셋에 필요한 텍스트 정보를 사람이 직접 입력해야 하는 번거로움이 있습니다. 따라서 OCR 데이터를 대량으로 만들려면 큰 비용이 듭니다. 데이터 문제를 해결하려면 컴퓨터로 대량 문자 이미지 데이터를 만들어내는 방법입니다. 직접 문자 데이터를 생성하게 되면, 원하는 언어를 원하는 폰트와 원하는 배치 및 크기로 문자 이미지를 만들 수 있습니다.\n",
        "\n"
      ],
      "metadata": {
        "id": "PFQSG1z3g4OZ"
      }
    },
    {
      "cell_type": "code",
      "execution_count": 1,
      "metadata": {
        "colab": {
          "base_uri": "https://localhost:8080/"
        },
        "id": "Fal3gDdNgv45",
        "outputId": "1562f666-c105-46da-b9e6-c72952fdd228"
      },
      "outputs": [
        {
          "output_type": "stream",
          "name": "stdout",
          "text": [
            "Mounted at /content/drive\n"
          ]
        }
      ],
      "source": [
        "from google.colab import drive\n",
        "drive.mount('/content/drive')"
      ]
    },
    {
      "cell_type": "code",
      "source": [
        "import os\n",
        "\n",
        "path = ('/content/drive/MyDrive/AIFFEL/GoingDeeper/12')\n",
        "os.chdir(path)\n",
        "\n",
        "print(path)"
      ],
      "metadata": {
        "colab": {
          "base_uri": "https://localhost:8080/"
        },
        "id": "3DjLcsTrhYeO",
        "outputId": "a6d9f13c-cf93-4432-89a1-f7682ad74e38"
      },
      "execution_count": 2,
      "outputs": [
        {
          "output_type": "stream",
          "name": "stdout",
          "text": [
            "/content/drive/MyDrive/AIFFEL/GoingDeeper/12\n"
          ]
        }
      ]
    },
    {
      "cell_type": "markdown",
      "source": [
        "# 2. Recognition model\n",
        "\n",
        "Text recognition 모델을 직접 만들어보도록 하겠습니다. Recognition 모델은 2015년 발표된 아래 논문에서 처음 소개된 CRNN 구조를 활용해서 만들어 보도록 하겠습니다.\n",
        "\n",
        "몇 개의 Class가 필요한지 확인하기 위해 다음 셀을 실행합니다."
      ],
      "metadata": {
        "id": "A6EuT4TtEcei"
      }
    },
    {
      "cell_type": "code",
      "source": [
        "NUMBERS = \"0123456789\"\n",
        "ENG_CHAR_UPPER = \"ABCDEFGHIJKLMNOPQRSTUVWXYZ\"\n",
        "TARGET_CHARACTERS = ENG_CHAR_UPPER + NUMBERS\n",
        "print(f\"The total number of characters is {len(TARGET_CHARACTERS)}\")"
      ],
      "metadata": {
        "colab": {
          "base_uri": "https://localhost:8080/"
        },
        "id": "kpdAA8gMjJts",
        "outputId": "ea065478-b038-4592-9c71-1ce20109d378"
      },
      "execution_count": 3,
      "outputs": [
        {
          "output_type": "stream",
          "name": "stdout",
          "text": [
            "The total number of characters is 36\n"
          ]
        }
      ]
    },
    {
      "cell_type": "markdown",
      "source": [
        "## 2.1. 라이브러리 및 데이터셋 불러오기\n",
        "\n",
        "먼저 lmdb를 이용할 예정입니다. LMDB는 Symas에서 만든 Lightning Memory-Mapped Database의 약자입니다. 오늘 우리가 다루게 될 데이터셋이 lmdb 포맷(mdb)의 파일로 이루어져 있습니다.\n"
      ],
      "metadata": {
        "id": "OCbxG6MnjcM1"
      }
    },
    {
      "cell_type": "code",
      "source": [
        "!pip install lmdb"
      ],
      "metadata": {
        "colab": {
          "base_uri": "https://localhost:8080/"
        },
        "id": "BUqnmU2CjWFc",
        "outputId": "8c53ca9a-aa18-462f-9ea3-5f1cbf92c150"
      },
      "execution_count": 4,
      "outputs": [
        {
          "output_type": "stream",
          "name": "stdout",
          "text": [
            "Looking in indexes: https://pypi.org/simple, https://us-python.pkg.dev/colab-wheels/public/simple/\n",
            "Requirement already satisfied: lmdb in /usr/local/lib/python3.7/dist-packages (0.99)\n"
          ]
        }
      ]
    },
    {
      "cell_type": "code",
      "source": [
        "import re\n",
        "import six\n",
        "import math\n",
        "import lmdb\n",
        "import os\n",
        "import numpy as np\n",
        "import tensorflow as tf\n",
        "\n",
        "from PIL import Image\n",
        "\n",
        "from tensorflow.keras import layers\n",
        "from tensorflow.keras.models import Model\n",
        "from tensorflow.keras.utils import Sequence\n",
        "from tensorflow.keras import backend as K\n",
        "from tensorflow.keras.models import load_model\n",
        "\n",
        "BATCH_SIZE = 128\n",
        "\n",
        "TRAIN_DATA_PATH = '/content/drive/MyDrive/AIFFEL/GoingDeeper/12/data/MJ/MJ_train'\n",
        "VALID_DATA_PATH = '/content/drive/MyDrive/AIFFEL/GoingDeeper/12/data/MJ/MJ_valid'\n",
        "TEST_DATA_PATH = '/content/drive/MyDrive/AIFFEL/GoingDeeper/12/data/MJ/MJ_test'\n",
        "\n",
        "print(TRAIN_DATA_PATH)"
      ],
      "metadata": {
        "colab": {
          "base_uri": "https://localhost:8080/"
        },
        "id": "dEbOpe9njXUr",
        "outputId": "9f7c2df4-1f2d-4e36-a0a4-7baf086613e7"
      },
      "execution_count": 5,
      "outputs": [
        {
          "output_type": "stream",
          "name": "stdout",
          "text": [
            "/content/drive/MyDrive/AIFFEL/GoingDeeper/12/data/MJ/MJ_train\n"
          ]
        }
      ]
    },
    {
      "cell_type": "markdown",
      "source": [
        "## 2.2. Input Image\n",
        "\n",
        "데이터셋 안에 들어있는 이미지가 실제로 어떻게 생겼는지 확인해 봅시다. 아래의 코드를 실행해 Imdb를 통해 훈련데이터셋의 이미지를 4개만 열어서 실제 shape가 어떻게 생겼는지, 이미지나 라벨은 어떻게 달려 있는지 확인해 보도록 합시다."
      ],
      "metadata": {
        "id": "7Ty-4U17FcJr"
      }
    },
    {
      "cell_type": "code",
      "source": [
        "from IPython.display import display\n",
        "\n",
        "# env에 데이터를 불러올게요\n",
        "# lmdb에서 데이터를 불러올 때 env라는 변수명을 사용하는게 일반적이에요\n",
        "env = lmdb.open(TRAIN_DATA_PATH, \n",
        "                max_readers=32, \n",
        "                readonly=True, \n",
        "                lock=False, \n",
        "                readahead=False, \n",
        "                meminit=False)\n",
        "\n",
        "# 불러온 데이터를 txn(transaction)이라는 변수를 통해 엽니다\n",
        "# 이제 txn변수를 통해 직접 데이터에 접근 할 수 있어요\n",
        "with env.begin(write=False) as txn:\n",
        "    for index in range(1, 5):\n",
        "        # index를 이용해서 라벨 키와 이미지 키를 만들면\n",
        "        # txn에서 라벨과 이미지를 읽어올 수 있어요\n",
        "        label_key = 'label-%09d'.encode() % index\n",
        "        label = txn.get(label_key).decode('utf-8')\n",
        "        img_key = 'image-%09d'.encode() % index\n",
        "        imgbuf = txn.get(img_key)\n",
        "        buf = six.BytesIO()\n",
        "        buf.write(imgbuf)\n",
        "        buf.seek(0)\n",
        "\n",
        "        # 이미지는 버퍼를 통해 읽어오기 때문에 \n",
        "        # 버퍼에서 이미지로 변환하는 과정이 다시 필요해요\n",
        "        try:\n",
        "            img = Image.open(buf).convert('RGB')\n",
        "\n",
        "        except IOError:\n",
        "            img = Image.new('RGB', (100, 32))\n",
        "            label = '-'\n",
        "\n",
        "        # 원본 이미지 크기를 출력해 봅니다\n",
        "        width, height = img.size\n",
        "        print('original image width:{}, height:{}'.format(width, height))\n",
        "        \n",
        "        # 이미지 비율을 유지하면서 높이를 32로 바꿀거에요\n",
        "        # 하지만 너비를 100보다는 작게하고 싶어요\n",
        "        target_width = min(int(width*32/height), 100)\n",
        "        target_img_size = (target_width,32)        \n",
        "        print('target_img_size:{}'.format(target_img_size))        \n",
        "        img = np.array(img.resize(target_img_size)).transpose(1,0,2)\n",
        "\n",
        "        # 이제 높이가 32로 일정한 이미지와 라벨을 함께 출력할 수 있어요       \n",
        "        print('display img shape:{}'.format(img.shape))\n",
        "        print('label:{}'.format(label))\n",
        "        display(Image.fromarray(img.transpose(1,0,2).astype(np.uint8)))"
      ],
      "metadata": {
        "colab": {
          "base_uri": "https://localhost:8080/",
          "height": 435
        },
        "id": "Sr18jemZjsuQ",
        "outputId": "aed6c95a-7b1a-4440-9f41-eb2af0919b35"
      },
      "execution_count": 6,
      "outputs": [
        {
          "output_type": "stream",
          "name": "stdout",
          "text": [
            "original image width:72, height:31\n",
            "target_img_size:(74, 32)\n",
            "display img shape:(74, 32, 3)\n",
            "label:Lube\n"
          ]
        },
        {
          "output_type": "display_data",
          "data": {
            "text/plain": [
              "<PIL.Image.Image image mode=RGB size=74x32 at 0x7FBB17A7C850>"
            ],
            "image/png": "[encoded data removed]"
          },
          "metadata": {}
        },
        {
          "output_type": "stream",
          "name": "stdout",
          "text": [
            "original image width:82, height:31\n",
            "target_img_size:(84, 32)\n",
            "display img shape:(84, 32, 3)\n",
            "label:Spencerian\n"
          ]
        },
        {
          "output_type": "display_data",
          "data": {
            "text/plain": [
              "<PIL.Image.Image image mode=RGB size=84x32 at 0x7FBB17A7CE90>"
            ],
            "image/png": "[encoded data removed]"
          },
          "metadata": {}
        },
        {
          "output_type": "stream",
          "name": "stdout",
          "text": [
            "original image width:115, height:31\n",
            "target_img_size:(100, 32)\n",
            "display img shape:(100, 32, 3)\n",
            "label:accommodatingly\n"
          ]
        },
        {
          "output_type": "display_data",
          "data": {
            "text/plain": [
              "<PIL.Image.Image image mode=RGB size=100x32 at 0x7FBB17A8A110>"
            ],
            "image/png": "[encoded data removed]"
          },
          "metadata": {}
        },
        {
          "output_type": "stream",
          "name": "stdout",
          "text": [
            "original image width:140, height:31\n",
            "target_img_size:(100, 32)\n",
            "display img shape:(100, 32, 3)\n",
            "label:CARPENTER\n"
          ]
        },
        {
          "output_type": "display_data",
          "data": {
            "text/plain": [
              "<PIL.Image.Image image mode=RGB size=100x32 at 0x7FBB17A8A250>"
            ],
            "image/png": "[encoded data removed]"
          },
          "metadata": {}
        }
      ]
    },
    {
      "cell_type": "markdown",
      "source": [
        "대부분의 이미지의 height는 31,32 정도로 되어있고, width는 문자열 길이에 따라 다양합니다.\n",
        "\n",
        "이제부터 Imdb를 활용해 케라스 모델 학습용 MJSynth 데이터셋 클래스를 구현하려고 합니다. `dataset_path`는 읽어들일 데이터셋의 경로입니다. `label_converter`는 아래에서 여러분이 문자를 미리 정의된 index로 변환해주는 converter로 직접 구현하도록 합니다. `batch_size`와 입력이미지 크기, 그리고 필터링을 위한 최대 글자 수, 학습 대상으로 한정하기 위한 character 등을 입력으로 받도록 구현되어 있습니다."
      ],
      "metadata": {
        "id": "mDFXH6EBF8W6"
      }
    },
    {
      "cell_type": "code",
      "source": [
        "class MJDatasetSequence(Sequence):\n",
        "  # 객체를 초기화할 때 lmdb를 열어 env에 준비해둡니다.\n",
        "  # 또, lmdb에 있는 데이터 수를 미리 파악해 둡니다.\n",
        "  def __init__(self,\n",
        "               dataset_path,\n",
        "               label_converter,\n",
        "               batch_size=1,\n",
        "               img_size=(100,32),\n",
        "               max_text_len=22,\n",
        "               is_train=False,\n",
        "               character=''):\n",
        "    \n",
        "      self.label_converter = label_converter\n",
        "      self.batch_size = batch_size\n",
        "      self.img_size = img_size\n",
        "      self.max_text_len = max_text_len\n",
        "      self.character = character\n",
        "      self.is_train = is_train\n",
        "      self.divide_length = 100\n",
        "\n",
        "      self.env = lmdb.open(dataset_path, max_readers=32, readonly=True, lock=False, readahead=False, meminit=False)\n",
        "      with self.env.begin(write=False) as txn:\n",
        "          self.num_samples = int(txn.get('num-samples'.encode()))\n",
        "          self.index_list = [index + 1 for index in range(self.num_samples)]\n",
        "        \n",
        "\n",
        "  def __len__(self):\n",
        "    return math.ceil(self.num_samples/self.batch_size/self.divide_length)\n",
        "    \n",
        "  # index에 해당하는 image와 label을 읽어옵니다\n",
        "  # 위에서 사용한 코드와 매우 유사합니다\n",
        "  # label을 조금 더 다듬는 것이 약간 다릅니다\n",
        "  def _get_img_label(self, index):\n",
        "    with self.env.begin(write=False) as txn:\n",
        "      label_key = 'label-%09d'.encode() % index\n",
        "      label = txn.get(label_key).decode('utf-8')\n",
        "      img_key = 'image-%09d'.encode() % index\n",
        "      imgbuf = txn.get(img_key)\n",
        "\n",
        "      buf = six.BytesIO()\n",
        "      buf.write(imgbuf)\n",
        "      buf.seek(0)\n",
        "      try:\n",
        "        img = Image.open(buf).convert('RGB')\n",
        "\n",
        "      except IOError:\n",
        "        img = Image.new('RGB', self.img_size)\n",
        "        label = '-'\n",
        "      width, height = img.size\n",
        "            \n",
        "      target_width = min(int(width*self.img_size[1]/height), self.img_size[0])\n",
        "      target_img_size = (target_width, self.img_size[1])\n",
        "      img = np.array(img.resize(target_img_size)).transpose(1,0,2)\n",
        "      # label을 약간 더 다듬습니다\n",
        "      label = label.upper()\n",
        "      out_of_char = f'[^{self.character}]'\n",
        "      label = re.sub(out_of_char, '', label)\n",
        "      label = label[:self.max_text_len]\n",
        "\n",
        "    return (img, label)\n",
        "\n",
        "   # __getitem__은 약속되어있는 메서드입니다\n",
        "   # 이 부분을 작성하면 slice할 수 있습니다\n",
        "   # 자세히 알고 싶다면 아래 문서를 참고하세요\n",
        "   # https://docs.python.org/3/reference/datamodel.html#object.__getitem__\n",
        "  \n",
        "   # 1. idx에 해당하는 index_list만큼 데이터를 불러\n",
        "   # 2. image와 label을 불러오고 \n",
        "   # 3. 사용하기 좋은 inputs과 outputs형태로 반환합니다.\n",
        "\n",
        "  def __getitem__(self, idx):\n",
        "    # 1.\n",
        "      batch_indicies = self.index_list[\n",
        "        idx*self.batch_size:\n",
        "        (idx+1)*self.batch_size\n",
        "      ]\n",
        "      input_images = np.zeros([self.batch_size, *self.img_size, 3])\n",
        "      labels = np.zeros([self.batch_size, self.max_text_len], dtype='int64')\n",
        "\n",
        "      input_length = np.ones([self.batch_size], dtype='int64') * self.max_text_len\n",
        "      label_length = np.ones([self.batch_size], dtype='int64')\n",
        "\n",
        "    # 2.\n",
        "      for i, index in enumerate(batch_indicies):\n",
        "        img, label = self._get_img_label(index)\n",
        "        encoded_label = self.label_converter.encode(label)\n",
        "        # 인코딩 과정에서 '-'이 추가되면 max_text_len보다 길어질 수 있어요\n",
        "        if len(encoded_label) > self.max_text_len:\n",
        "          continue\n",
        "        width = img.shape[0]\n",
        "        input_images[i,:width,:,:] = img\n",
        "        labels[i,0:len(encoded_label)] = encoded_label\n",
        "        label_length[i] = len(encoded_label)\n",
        "        \n",
        "    # 3.\n",
        "      inputs = {\n",
        "        'input_image': input_images,\n",
        "        'label': labels,\n",
        "        'input_length': input_length,\n",
        "        'label_length': label_length,\n",
        "      }\n",
        "      outputs = {'ctc': np.zeros([self.batch_size, 1])}\n",
        "\n",
        "      return inputs, outputs"
      ],
      "metadata": {
        "id": "pvSLo8YqGee_"
      },
      "execution_count": 7,
      "outputs": []
    },
    {
      "cell_type": "markdown",
      "source": [
        "위의 분석코드처럼 이미지 데이터를 img, label의 쌍으로 가져오는 부분은 `_get_img_label()` 메소드에 반영되었습니다. 그리고 `model.fit()`에서 호출되는 `__getitem__` 메소드에서 배치 단위만큼 `__get_img_label()`를 통해 가져온 데이터셋을 리턴하게 될 것입니다. `__get_img_label()`를 보면 다양한 사이즈의 이미지를 모두 height는 32로 맞추고, width는 최대 100까지로 맞추게끔 가공하고 있습니다."
      ],
      "metadata": {
        "id": "oRr2ZzUDJmEX"
      }
    },
    {
      "cell_type": "markdown",
      "source": [
        "## 2.3. Encode\n",
        "\n",
        "이전 스텝에서 살펴본 바에 의하면, Label이 우리가 읽을 수 있는 평문 Text로 이루어져 있었습니다. 그러나 이것은 모델을 학습하기에 적절한 형태가 아닙니다. 따라서 각 Character를 class로 생각하고 이를 step에 따른 class index로 변환해서 encode를 해줘야 합니다. 이를 해줄 수 있는 LabelConverter 클래스를 작성해 봅니다.\n",
        "\n",
        "* `__init__` 에서는 입력으로 받은 text를 `self.dict`에 각 character들이 어떤 index에 매핑되는지 저장합니다. 이 character와 index 정보를 통해 모델이 학습할 수 있는 output이 만들어 집니다. 만약 `character='ABCD'`라면 'A'의 label은 1, 'B'의 label은 2가 됩니다.\n",
        "\n",
        "* 공백(blank) 문자를 지정합니다. 여기서는 공백 문자를 뜻하기 위해 `'-'`를 활용하며, label은 0으로 지정합니다.\n",
        "\n",
        "* `decode()`는 각 index를 다시 character로 변환한 후 이어주어 우리가 읽을 수 있는 text로 바꿔줍니다.\n",
        "\n",
        "> 입력받은 text를 모델이 학습할 수 있는 label로 만드는 encode() 메소드를 구현해 주세요!\n",
        "단, 같은 글자가 연속으로 이어지는 경우에는 이어지는 그 사이에 공백 문자의 label을 포함해야 합니다."
      ],
      "metadata": {
        "id": "5ZBG4GINKffb"
      }
    },
    {
      "cell_type": "code",
      "source": [
        "class LabelConverter(object):\n",
        "\n",
        "  def __init__(self, character):\n",
        "    self.character = \"-\" + character\n",
        "    self.label_map = dict()\n",
        "    for i, char in enumerate(self.character):\n",
        "      self.label_map[char] = i\n",
        "\n",
        "  def encode(self, text):\n",
        "    encoded_label = []\n",
        "    for i, char in enumerate(text):\n",
        "      if i > 0 and char == text[i - 1]:\n",
        "        encoded_label.append(0)   # 같은 문자 사이에 공백 문자 label 삽입\n",
        "      encoded_label.append(self.label_map[char])\n",
        "    return np.array(encoded_label)\n",
        "\n",
        "  def decode(self, encoded_label):\n",
        "    target_characters = list(self.character)\n",
        "    decoded_label = \"\"\n",
        "    for encode in encoded_label:\n",
        "      decoded_label += self.character[encode]\n",
        "    return decoded_label"
      ],
      "metadata": {
        "id": "wawtxr9KKccE"
      },
      "execution_count": 8,
      "outputs": []
    },
    {
      "cell_type": "code",
      "source": [
        "label_converter = LabelConverter(TARGET_CHARACTERS)\n",
        "\n",
        "encdoded_text = label_converter.encode('HELLO')\n",
        "print(\"Encdoded_text: \", encdoded_text)\n",
        "decoded_text = label_converter.decode(encdoded_text)\n",
        "print(\"Decoded_text: \", decoded_text)"
      ],
      "metadata": {
        "colab": {
          "base_uri": "https://localhost:8080/"
        },
        "id": "c-tWrvCfM4FF",
        "outputId": "e8663a27-d86c-4d9e-a572-b21ed37905d3"
      },
      "execution_count": 9,
      "outputs": [
        {
          "output_type": "stream",
          "name": "stdout",
          "text": [
            "Encdoded_text:  [ 8  5 12  0 12 15]\n",
            "Decoded_text:  HEL-LO\n"
          ]
        }
      ]
    },
    {
      "cell_type": "markdown",
      "source": [
        "HELLO 내에 동일한 문자 `L`이 연속될 때, 그 사이에 공백 문자가 포함된 것을 확인할 수 있습니다."
      ],
      "metadata": {
        "id": "Z-0rmKvRM6T3"
      }
    },
    {
      "cell_type": "markdown",
      "source": [
        "## 2.4. Build CRNN model\n",
        "\n",
        "이제 입력과 출력을 준비했으니 모델을 만들어볼 차례입니다. Keras에서 제공하는 `K.ctc_batch_cost()`를 활용해서 loss를 계산하도록 ctc_lambda_func를 아래와 같이 만들어 두었습니다."
      ],
      "metadata": {
        "id": "8K3LR_iRNE2c"
      }
    },
    {
      "cell_type": "code",
      "source": [
        "def ctc_lambda_func(args):  # CTC loss를 계산하기 위한 Lambda 함수\n",
        "  labels, y_pred, label_length, input_length = args\n",
        "  y_pred = y_pred[:, 2:, :]\n",
        "  return K.ctc_batch_cost(labels, y_pred, input_length, label_length)"
      ],
      "metadata": {
        "id": "U5C8bCKsNXWY"
      },
      "execution_count": 10,
      "outputs": []
    },
    {
      "cell_type": "markdown",
      "source": [
        "여기서 잠시 Keras의 `K.ctc_batch_cost()`함수에 대해 짚고 넘어갑시다. 비록 우리가 이 함수 내부를 직접 구현하진 않겠지만 CTC Loss 함수를 구현하기 위해 우리가 이 함수에 인자로 어떤 값을 넘겨야 하는지는 명확하게 파악해야 합니다."
      ],
      "metadata": {
        "id": "ktxOEaUNNyGG"
      }
    },
    {
      "cell_type": "markdown",
      "source": [
        "![image.png](data:image/png;base64,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)"
      ],
      "metadata": {
        "id": "csbgalVCN4vL"
      }
    },
    {
      "cell_type": "markdown",
      "source": [
        "우리는 CTC Loss를 활용해야 하는 모델이 위 그림과 같은 상황을 다루기 위한 것임을 알고 있습니다. 입력의 길이 T와 라벨의 길이 U의 단위가 일치하지 않을 때, 그래서 라벨은 APPLE이지만 모델이 출력한 결과는 `AAAPPPPLLLLEE`처럼 나올 수 있습니다. 이런 상황이 이미지에서 텍스트 라벨을 추론해야 하는 Text recognition 태스크에 동일하게 적용됩니다.\n",
        "\n",
        "> 만약 모델이 `AAAPPPPLLLLEE`을 출력했다고 하면 이때 추론 결과는 APLE일지 APPLE일지 구분을 해낼까요? 이 경우에는 APLE로 결론을 내리게 될 것입니다.\n",
        ">\n",
        "> 그러므로 추론 결과가 APPLE이 되게 하려면 이미지의 라벨은 AP-PLE로 보정해 줘야 합니다. 그래서 모델이 `AAAPP-PPLLLEE`로 출력한다면 추론 결과는 APPLE이 되는 것입니다. 이런 이유로 이전 스텝에서 LabelConverter.encode() 메소드에 공백문자 처리로직을 포함했던 것입니다.\n",
        "\n",
        "위 텐서플로우 튜토리얼에 따르면, `K.ctc_batch_cost(y_true, y_pred, input_length, label_length)`에는 4가지 인자가 존재합니다. 각각의 인자의 의미는 다음과 같습니다.\n",
        "\n",
        "* y_true : tensor (samples, max_string_length) containing the truth labels.\n",
        "* y_pred : tensor(samples, time_steps, num_categories) containing the prediction, or output of the softmax.\n",
        "* input_length : tensor (samples, 1) containing the sequence length for each batch item in y_pred.\n",
        "* label_length : tensor (samples, 1) containing the sequence length for each batch item in y_true.\n",
        "\n",
        "여기서 samples는 배치사이즈를 의미합니다.\n"
      ],
      "metadata": {
        "id": "FSHWFf2CN-TT"
      }
    },
    {
      "cell_type": "markdown",
      "source": [],
      "metadata": {
        "id": "8Tsk3E64Q689"
      }
    },
    {
      "cell_type": "markdown",
      "source": [
        "![image.png](data:image/png;base64,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)"
      ],
      "metadata": {
        "id": "wGlvPI7OQ7KQ"
      }
    },
    {
      "cell_type": "markdown",
      "source": [
        "위 그림은 이전 스텝에서 살펴본 실제 데이터셋의 예시입니다. 이 케이스를 예로 들었을 때 위 인자들은 다음과 같이 될 것입니다.\n",
        "\n",
        "* y_true : 실제 라벨 LUBE. 텍스트 라벨 그대로가 아니라, 각 글자를 One-hot 인코딩한 형태로, `max_string_length` 값은 모델에서 22로 지정할 예정\n",
        "\n",
        "* y_pred : 우리가 만들 RCNN 모델의 출력 결과. 길이는 4가 아닌 우리가 만들 RNN의 최종 출력 길이. 대략 24 정도가 될 예정\n",
        "\n",
        "* input_length_tensor : 모델 입력 길이 T로서, 이 경우에는 텍스트의 width인 74\n",
        "\n",
        "* label_length : 라벨의 실제 정답 길이 U로서, 이 경우에는 4\n",
        "\n",
        "이제, K.ctc_batch_cost()를 활용해, `image_input`을 입력으로, 마지막 Label을 'output'이라는 이름으로 출력하는 레이어를 갖도록 모델을 만드는 함수 `build_crnn_model()`을 구현해 봅시다."
      ],
      "metadata": {
        "id": "49i4eAqXRwFf"
      }
    },
    {
      "cell_type": "code",
      "source": [
        "def build_crnn_model(input_shape=(100,32,3), characters=TARGET_CHARACTERS):\n",
        "    num_chars = len(characters)+2\n",
        "    image_input = layers.Input(shape=input_shape, dtype='float32', name='input_image')\n",
        "    \n",
        "    # Build CRNN model\n",
        "    conv = layers.Conv2D(64, (3, 3), activation='relu', padding='same', kernel_initializer='he_normal')(image_input)\n",
        "    conv = layers.MaxPooling2D(pool_size=(2, 2))(conv)\n",
        "    conv = layers.Conv2D(128, (3, 3), activation='relu', padding='same', kernel_initializer='he_normal')(conv)\n",
        "    conv = layers.MaxPooling2D(pool_size=(2, 2))(conv)\n",
        "    conv = layers.Conv2D(256, (3, 3), activation='relu', padding='same', kernel_initializer='he_normal')(conv)\n",
        "    conv = layers.Conv2D(256, (3, 3), activation='relu', padding='same', kernel_initializer='he_normal')(conv)\n",
        "    conv = layers.MaxPooling2D(pool_size=(1, 2))(conv)\n",
        "    conv = layers.Conv2D(512, (3, 3), activation='relu', padding='same', kernel_initializer='he_normal')(conv)\n",
        "    conv = layers.BatchNormalization()(conv)\n",
        "    conv = layers.Conv2D(512, (3, 3), activation='relu', padding='same', kernel_initializer='he_normal')(conv)\n",
        "    conv = layers.BatchNormalization()(conv)\n",
        "    conv = layers.MaxPooling2D(pool_size=(1, 2))(conv)     \n",
        "    feature = layers.Conv2D(512, (2, 2), activation='relu', kernel_initializer='he_normal')(conv)\n",
        "    sequnce = layers.Reshape(target_shape=(24, 512))(feature)\n",
        "    sequnce = layers.Dense(64, activation='relu')(sequnce)\n",
        "    sequnce = layers.Bidirectional(layers.LSTM(256, return_sequences=True))(sequnce)\n",
        "    sequnce = layers.Bidirectional(layers.LSTM(256, return_sequences=True))(sequnce)\n",
        "    y_pred = layers.Dense(num_chars, activation='softmax', name='output')(sequnce)\n",
        "\n",
        "    labels = layers.Input(shape=[22], dtype='int64', name='label')\n",
        "    input_length = layers.Input(shape=[1], dtype='int64', name='input_length')\n",
        "    label_length = layers.Input(shape=[1], dtype='int64', name='label_length')\n",
        "    loss_out = layers.Lambda(ctc_lambda_func, output_shape=(1,), name=\"ctc\")(\n",
        "        [labels, y_pred, label_length, input_length]\n",
        "    )\n",
        "    model_input = [image_input, labels, input_length, label_length]\n",
        "    model = Model(\n",
        "        inputs=model_input,\n",
        "        outputs=loss_out\n",
        "    )\n",
        "    return model"
      ],
      "metadata": {
        "id": "Mjc9HuJwN9r6"
      },
      "execution_count": 11,
      "outputs": []
    },
    {
      "cell_type": "markdown",
      "source": [
        "# 3. 모델의 훈련 및 추론\n",
        "\n",
        "이제 앞에서 정의한 MJDatasetSequence로 데이터를 적절히 분리해 구성된 데이터셋을 통해 학습을 시켜봅시다."
      ],
      "metadata": {
        "id": "20DhbfOpTaes"
      }
    },
    {
      "cell_type": "code",
      "source": [
        "# 데이터셋과 모델을 준비합니다\n",
        "train_set = MJDatasetSequence(TRAIN_DATA_PATH, label_converter, batch_size=BATCH_SIZE, character=TARGET_CHARACTERS, is_train=True)\n",
        "val_set = MJDatasetSequence(VALID_DATA_PATH, label_converter, batch_size=BATCH_SIZE, character=TARGET_CHARACTERS)\n",
        "model = build_crnn_model()\n",
        "\n",
        "# 모델을 컴파일 합니다\n",
        "optimizer = tf.keras.optimizers.Adadelta(lr=0.1, clipnorm=5)\n",
        "model.compile(loss={'ctc': lambda y_true, y_pred: y_pred}, optimizer=optimizer)"
      ],
      "metadata": {
        "colab": {
          "base_uri": "https://localhost:8080/"
        },
        "id": "WZRpwJMkNvLk",
        "outputId": "b21b278e-a7e8-42bc-853e-ebf2b6fe79ae"
      },
      "execution_count": 12,
      "outputs": [
        {
          "output_type": "stream",
          "name": "stderr",
          "text": [
            "/usr/local/lib/python3.7/dist-packages/keras/optimizers/optimizer_v2/adadelta.py:77: UserWarning: The `lr` argument is deprecated, use `learning_rate` instead.\n",
            "  super(Adadelta, self).__init__(name, **kwargs)\n"
          ]
        }
      ]
    },
    {
      "cell_type": "markdown",
      "source": [
        "실제 학습을 위해선 많은 시간이 소요되니 여기서는 예시로 1 에포크만 돌려보겠습니다.뒤에서는 20 에포크 이상 학습된 모델의 가중치를 불러와서 진행합니다.\n",
        "\n",
        "EarlyStopping을 이용해 훈련을 더 빨리 끝낼 수도 있어요!!"
      ],
      "metadata": {
        "id": "yVefNa1kUNvd"
      }
    },
    {
      "cell_type": "code",
      "source": [
        "# 훈련이 빨리 끝날 수 있도록 ModelCheckPoint와 EarlyStopping을 사용합니다\n",
        "checkpoint_path = '/content/drive/MyDrive/AIFFEL/GoingDeeper/12/model_checkpoint1.hdf5'\n",
        "ckp = tf.keras.callbacks.ModelCheckpoint(\n",
        "    checkpoint_path, monitor='val_loss',\n",
        "    verbose=1, save_best_only=True, save_weights_only=True\n",
        ")\n",
        "earlystop = tf.keras.callbacks.EarlyStopping(\n",
        "    monitor='val_loss', min_delta=0, patience=4, verbose=0, mode='min'\n",
        ")\n",
        "model.fit(train_set,\n",
        "          steps_per_epoch=len(train_set),\n",
        "          epochs=1,\n",
        "          validation_data=val_set,\n",
        "          validation_steps=len(val_set),\n",
        "          callbacks=[ckp, earlystop])"
      ],
      "metadata": {
        "colab": {
          "base_uri": "https://localhost:8080/"
        },
        "id": "beKqfQ68UjuU",
        "outputId": "6e62e3f3-9fcf-477f-b726-d83dc6a29c74"
      },
      "execution_count": 13,
      "outputs": [
        {
          "output_type": "stream",
          "name": "stdout",
          "text": [
            "565/565 [==============================] - ETA: 0s - loss: 25.5729\n",
            "Epoch 1: val_loss improved from inf to 23.56889, saving model to /content/drive/MyDrive/AIFFEL/GoingDeeper/12/model_checkpoint1.hdf5\n",
            "565/565 [==============================] - 139s 209ms/step - loss: 25.5729 - val_loss: 23.5689\n"
          ]
        },
        {
          "output_type": "execute_result",
          "data": {
            "text/plain": [
              "<keras.callbacks.History at 0x7fb4bc1f01d0>"
            ]
          },
          "metadata": {},
          "execution_count": 13
        }
      ]
    },
    {
      "cell_type": "markdown",
      "source": [
        "이제 학습된 모델을 테스트셋을 통해 확인해 볼 차례입니다."
      ],
      "metadata": {
        "id": "AWr3dK1BVIfL"
      }
    },
    {
      "cell_type": "code",
      "source": [
        "# 다음은 학습된 모델의 가중치가 저장된 경로입니다\n",
        "checkpoint_path = '/content/drive/MyDrive/AIFFEL/GoingDeeper/12/model_checkpoint.hdf5'\n",
        "\n",
        "# 데이터셋과 모델을 불러옵니다\n",
        "test_set = MJDatasetSequence(TEST_DATA_PATH, label_converter, batch_size=BATCH_SIZE, character=TARGET_CHARACTERS)\n",
        "model = build_crnn_model()\n",
        "model.load_weights(checkpoint_path)\n",
        "\n",
        "# crnn 모델은 입력이 복잡한 구조이므로 그대로 사용할 수가 없습니다\n",
        "# 그래서 crnn 모델의 입력중 'input_image' 부분만 사용한 모델을 새로 만들겁니다\n",
        "# inference 전용 모델이에요 \n",
        "input_data = model.get_layer('input_image').output\n",
        "y_pred = model.get_layer('output').output\n",
        "model_pred = Model(inputs=input_data, outputs=y_pred)"
      ],
      "metadata": {
        "id": "YYGJtu2xVOR7"
      },
      "execution_count": 20,
      "outputs": []
    },
    {
      "cell_type": "markdown",
      "source": [
        "학습된 모델의 성능을 눈으로 확인해봅시다."
      ],
      "metadata": {
        "id": "xeJvcSo8WZRz"
      }
    },
    {
      "cell_type": "code",
      "source": [
        "from IPython.display import display\n",
        "\n",
        "# 모델이 inference한 결과를 글자로 바꿔주는 역할을 합니다\n",
        "# 코드 하나하나를 이해하기는 조금 어려울 수 있습니다\n",
        "def decode_predict_ctc(out, chars = TARGET_CHARACTERS):\n",
        "    results = []\n",
        "    indexes = K.get_value(\n",
        "        K.ctc_decode(\n",
        "            out, input_length=np.ones(out.shape[0]) * out.shape[1],\n",
        "            greedy=False , beam_width=5, top_paths=1\n",
        "        )[0][0]\n",
        "    )[0]\n",
        "    text = \"\"\n",
        "    for index in indexes:\n",
        "        text += chars[index]\n",
        "    results.append(text)\n",
        "    return results\n",
        "\n",
        "# 모델과 데이터셋이 주어지면 inference를 수행합니다\n",
        "# index개 만큼의 데이터를 읽어 모델로 inference를 수행하고\n",
        "# 결과를 디코딩해 출력해줍니다\n",
        "def check_inference(model, dataset, index = 5):\n",
        "    for i in range(index):\n",
        "        inputs, outputs = dataset[i]\n",
        "        img = dataset[i][0]['input_image'][0:1,:,:,:]\n",
        "        output = model.predict(img)\n",
        "        result = decode_predict_ctc(output, chars=\"-\"+TARGET_CHARACTERS)[0].replace('-','')\n",
        "        print(\"Result: \\t\", result)\n",
        "        display(Image.fromarray(img[0].transpose(1,0,2).astype(np.uint8)))\n",
        "\n",
        "check_inference(model_pred, test_set, index=10)"
      ],
      "metadata": {
        "colab": {
          "base_uri": "https://localhost:8080/",
          "height": 700
        },
        "id": "ZeDcwhugVpBa",
        "outputId": "b4fbe379-275a-4ce4-8105-fde73903bb26"
      },
      "execution_count": 21,
      "outputs": [
        {
          "output_type": "stream",
          "name": "stdout",
          "text": [
            "1/1 [==============================] - 1s 1s/step\n",
            "Result: \t SN9999999999999999999999\n"
          ]
        },
        {
          "output_type": "display_data",
          "data": {
            "text/plain": [
              "<PIL.Image.Image image mode=RGB size=100x32 at 0x7FB498470950>"
            ],
            "image/png": "[encoded data removed]"
          },
          "metadata": {}
        },
        {
          "output_type": "stream",
          "name": "stdout",
          "text": [
            "1/1 [==============================] - 0s 26ms/step\n",
            "Result: \t BA9999999999999999999999\n"
          ]
        },
        {
          "output_type": "display_data",
          "data": {
            "text/plain": [
              "<PIL.Image.Image image mode=RGB size=100x32 at 0x7FB49833C110>"
            ],
            "image/png": "[encoded data removed]"
          },
          "metadata": {}
        },
        {
          "output_type": "stream",
          "name": "stdout",
          "text": [
            "1/1 [==============================] - 0s 26ms/step\n",
            "Result: \t PS9999999999999999999999\n"
          ]
        },
        {
          "output_type": "display_data",
          "data": {
            "text/plain": [
              "<PIL.Image.Image image mode=RGB size=100x32 at 0x7FB498304050>"
            ],
            "image/png": "[encoded data removed]"
          },
          "metadata": {}
        },
        {
          "output_type": "stream",
          "name": "stdout",
          "text": [
            "1/1 [==============================] - 0s 26ms/step\n",
            "Result: \t SPS999999999999999999999\n"
          ]
        },
        {
          "output_type": "display_data",
          "data": {
            "text/plain": [
              "<PIL.Image.Image image mode=RGB size=100x32 at 0x7FB498E69BD0>"
            ],
            "image/png": "[encoded data removed]"
          },
          "metadata": {}
        },
        {
          "output_type": "stream",
          "name": "stdout",
          "text": [
            "1/1 [==============================] - 0s 28ms/step\n",
            "Result: \t BA9999999999999999999999\n"
          ]
        },
        {
          "output_type": "display_data",
          "data": {
            "text/plain": [
              "<PIL.Image.Image image mode=RGB size=100x32 at 0x7FB4985DEE90>"
            ],
            "image/png": "[encoded data removed]"
          },
          "metadata": {}
        },
        {
          "output_type": "stream",
          "name": "stdout",
          "text": [
            "1/1 [==============================] - 0s 25ms/step\n",
            "Result: \t S99999999999999999999999\n"
          ]
        },
        {
          "output_type": "display_data",
          "data": {
            "text/plain": [
              "<PIL.Image.Image image mode=RGB size=100x32 at 0x7FB4B5B61450>"
            ],
            "image/png": "[encoded data removed]"
          },
          "metadata": {}
        },
        {
          "output_type": "stream",
          "name": "stdout",
          "text": [
            "1/1 [==============================] - 0s 23ms/step\n",
            "Result: \t POSE99999999999999999999\n"
          ]
        },
        {
          "output_type": "display_data",
          "data": {
            "text/plain": [
              "<PIL.Image.Image image mode=RGB size=100x32 at 0x7FB499255210>"
            ],
            "image/png": "[encoded data removed]"
          },
          "metadata": {}
        },
        {
          "output_type": "stream",
          "name": "stdout",
          "text": [
            "1/1 [==============================] - 0s 27ms/step\n",
            "Result: \t PES999999999999999999999\n"
          ]
        },
        {
          "output_type": "display_data",
          "data": {
            "text/plain": [
              "<PIL.Image.Image image mode=RGB size=100x32 at 0x7FB4982FDB10>"
            ],
            "image/png": "[encoded data removed]"
          },
          "metadata": {}
        },
        {
          "output_type": "stream",
          "name": "stdout",
          "text": [
            "1/1 [==============================] - 0s 30ms/step\n",
            "Result: \t SOS999999999999999999999\n"
          ]
        },
        {
          "output_type": "display_data",
          "data": {
            "text/plain": [
              "<PIL.Image.Image image mode=RGB size=100x32 at 0x7FB4982CE050>"
            ],
            "image/png": "[encoded data removed]"
          },
          "metadata": {}
        },
        {
          "output_type": "stream",
          "name": "stdout",
          "text": [
            "1/1 [==============================] - 0s 23ms/step\n",
            "Result: \t BSES99999999999999999999\n"
          ]
        },
        {
          "output_type": "display_data",
          "data": {
            "text/plain": [
              "<PIL.Image.Image image mode=RGB size=100x32 at 0x7FB4B5B68A90>"
            ],
            "image/png": "[encoded data removed]"
          },
          "metadata": {}
        }
      ]
    }
  ]
}