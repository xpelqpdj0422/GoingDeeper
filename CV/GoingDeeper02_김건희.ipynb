{
  "nbformat": 4,
  "nbformat_minor": 0,
  "metadata": {
    "colab": {
      "provenance": [],
      "collapsed_sections": []
    },
    "kernelspec": {
      "name": "python3",
      "display_name": "Python 3"
    },
    "language_info": {
      "name": "python"
    },
    "accelerator": "GPU",
    "widgets": {
      "application/vnd.jupyter.widget-state+json": {
        "a3e9f6cf054e41aaaa1cb9580c70bff7": {
          "model_module": "@jupyter-widgets/controls",
          "model_name": "HBoxModel",
          "model_module_version": "1.5.0",
          "state": {
            "_dom_classes": [],
            "_model_module": "@jupyter-widgets/controls",
            "_model_module_version": "1.5.0",
            "_model_name": "HBoxModel",
            "_view_count": null,
            "_view_module": "@jupyter-widgets/controls",
            "_view_module_version": "1.5.0",
            "_view_name": "HBoxView",
            "box_style": "",
            "children": [
              "IPY_MODEL_9b259e5b1720448c96361ef086b6028c",
              "IPY_MODEL_0a17b86fb00442289dd911c8e595c07d",
              "IPY_MODEL_91cd27fb5b6543909bc0290faf5b3c0c"
            ],
            "layout": "IPY_MODEL_aa9c8d8d426a4b939ac585bc76525008"
          }
        },
        "9b259e5b1720448c96361ef086b6028c": {
          "model_module": "@jupyter-widgets/controls",
          "model_name": "HTMLModel",
          "model_module_version": "1.5.0",
          "state": {
            "_dom_classes": [],
            "_model_module": "@jupyter-widgets/controls",
            "_model_module_version": "1.5.0",
            "_model_name": "HTMLModel",
            "_view_count": null,
            "_view_module": "@jupyter-widgets/controls",
            "_view_module_version": "1.5.0",
            "_view_name": "HTMLView",
            "description": "",
            "description_tooltip": null,
            "layout": "IPY_MODEL_c471dd3e5ec04e9d93c6bd3a4cefb40a",
            "placeholder": "​",
            "style": "IPY_MODEL_4ffe9952633d428ab6efeeda7bdaad7c",
            "value": "Dl Completed...: 100%"
          }
        },
        "0a17b86fb00442289dd911c8e595c07d": {
          "model_module": "@jupyter-widgets/controls",
          "model_name": "FloatProgressModel",
          "model_module_version": "1.5.0",
          "state": {
            "_dom_classes": [],
            "_model_module": "@jupyter-widgets/controls",
            "_model_module_version": "1.5.0",
            "_model_name": "FloatProgressModel",
            "_view_count": null,
            "_view_module": "@jupyter-widgets/controls",
            "_view_module_version": "1.5.0",
            "_view_name": "ProgressView",
            "bar_style": "success",
            "description": "",
            "description_tooltip": null,
            "layout": "IPY_MODEL_c336ba7a5ef344a68821ed797b4d3204",
            "max": 1,
            "min": 0,
            "orientation": "horizontal",
            "style": "IPY_MODEL_f5d2da29e2b54c64a9736ca2fa9ecefc",
            "value": 1
          }
        },
        "91cd27fb5b6543909bc0290faf5b3c0c": {
          "model_module": "@jupyter-widgets/controls",
          "model_name": "HTMLModel",
          "model_module_version": "1.5.0",
          "state": {
            "_dom_classes": [],
            "_model_module": "@jupyter-widgets/controls",
            "_model_module_version": "1.5.0",
            "_model_name": "HTMLModel",
            "_view_count": null,
            "_view_module": "@jupyter-widgets/controls",
            "_view_module_version": "1.5.0",
            "_view_name": "HTMLView",
            "description": "",
            "description_tooltip": null,
            "layout": "IPY_MODEL_2ce44cb1d2414f708e074a71d1e8a446",
            "placeholder": "​",
            "style": "IPY_MODEL_2167d10a55bf45c7a5723523918185d7",
            "value": " 1/1 [00:04&lt;00:00,  2.91s/ url]"
          }
        },
        "aa9c8d8d426a4b939ac585bc76525008": {
          "model_module": "@jupyter-widgets/base",
          "model_name": "LayoutModel",
          "model_module_version": "1.2.0",
          "state": {
            "_model_module": "@jupyter-widgets/base",
            "_model_module_version": "1.2.0",
            "_model_name": "LayoutModel",
            "_view_count": null,
            "_view_module": "@jupyter-widgets/base",
            "_view_module_version": "1.2.0",
            "_view_name": "LayoutView",
            "align_content": null,
            "align_items": null,
            "align_self": null,
            "border": null,
            "bottom": null,
            "display": null,
            "flex": null,
            "flex_flow": null,
            "grid_area": null,
            "grid_auto_columns": null,
            "grid_auto_flow": null,
            "grid_auto_rows": null,
            "grid_column": null,
            "grid_gap": null,
            "grid_row": null,
            "grid_template_areas": null,
            "grid_template_columns": null,
            "grid_template_rows": null,
            "height": null,
            "justify_content": null,
            "justify_items": null,
            "left": null,
            "margin": null,
            "max_height": null,
            "max_width": null,
            "min_height": null,
            "min_width": null,
            "object_fit": null,
            "object_position": null,
            "order": null,
            "overflow": null,
            "overflow_x": null,
            "overflow_y": null,
            "padding": null,
            "right": null,
            "top": null,
            "visibility": null,
            "width": null
          }
        },
        "c471dd3e5ec04e9d93c6bd3a4cefb40a": {
          "model_module": "@jupyter-widgets/base",
          "model_name": "LayoutModel",
          "model_module_version": "1.2.0",
          "state": {
            "_model_module": "@jupyter-widgets/base",
            "_model_module_version": "1.2.0",
            "_model_name": "LayoutModel",
            "_view_count": null,
            "_view_module": "@jupyter-widgets/base",
            "_view_module_version": "1.2.0",
            "_view_name": "LayoutView",
            "align_content": null,
            "align_items": null,
            "align_self": null,
            "border": null,
            "bottom": null,
            "display": null,
            "flex": null,
            "flex_flow": null,
            "grid_area": null,
            "grid_auto_columns": null,
            "grid_auto_flow": null,
            "grid_auto_rows": null,
            "grid_column": null,
            "grid_gap": null,
            "grid_row": null,
            "grid_template_areas": null,
            "grid_template_columns": null,
            "grid_template_rows": null,
            "height": null,
            "justify_content": null,
            "justify_items": null,
            "left": null,
            "margin": null,
            "max_height": null,
            "max_width": null,
            "min_height": null,
            "min_width": null,
            "object_fit": null,
            "object_position": null,
            "order": null,
            "overflow": null,
            "overflow_x": null,
            "overflow_y": null,
            "padding": null,
            "right": null,
            "top": null,
            "visibility": null,
            "width": null
          }
        },
        "4ffe9952633d428ab6efeeda7bdaad7c": {
          "model_module": "@jupyter-widgets/controls",
          "model_name": "DescriptionStyleModel",
          "model_module_version": "1.5.0",
          "state": {
            "_model_module": "@jupyter-widgets/controls",
            "_model_module_version": "1.5.0",
            "_model_name": "DescriptionStyleModel",
            "_view_count": null,
            "_view_module": "@jupyter-widgets/base",
            "_view_module_version": "1.2.0",
            "_view_name": "StyleView",
            "description_width": ""
          }
        },
        "c336ba7a5ef344a68821ed797b4d3204": {
          "model_module": "@jupyter-widgets/base",
          "model_name": "LayoutModel",
          "model_module_version": "1.2.0",
          "state": {
            "_model_module": "@jupyter-widgets/base",
            "_model_module_version": "1.2.0",
            "_model_name": "LayoutModel",
            "_view_count": null,
            "_view_module": "@jupyter-widgets/base",
            "_view_module_version": "1.2.0",
            "_view_name": "LayoutView",
            "align_content": null,
            "align_items": null,
            "align_self": null,
            "border": null,
            "bottom": null,
            "display": null,
            "flex": null,
            "flex_flow": null,
            "grid_area": null,
            "grid_auto_columns": null,
            "grid_auto_flow": null,
            "grid_auto_rows": null,
            "grid_column": null,
            "grid_gap": null,
            "grid_row": null,
            "grid_template_areas": null,
            "grid_template_columns": null,
            "grid_template_rows": null,
            "height": null,
            "justify_content": null,
            "justify_items": null,
            "left": null,
            "margin": null,
            "max_height": null,
            "max_width": null,
            "min_height": null,
            "min_width": null,
            "object_fit": null,
            "object_position": null,
            "order": null,
            "overflow": null,
            "overflow_x": null,
            "overflow_y": null,
            "padding": null,
            "right": null,
            "top": null,
            "visibility": null,
            "width": "20px"
          }
        },
        "f5d2da29e2b54c64a9736ca2fa9ecefc": {
          "model_module": "@jupyter-widgets/controls",
          "model_name": "ProgressStyleModel",
          "model_module_version": "1.5.0",
          "state": {
            "_model_module": "@jupyter-widgets/controls",
            "_model_module_version": "1.5.0",
            "_model_name": "ProgressStyleModel",
            "_view_count": null,
            "_view_module": "@jupyter-widgets/base",
            "_view_module_version": "1.2.0",
            "_view_name": "StyleView",
            "bar_color": null,
            "description_width": ""
          }
        },
        "2ce44cb1d2414f708e074a71d1e8a446": {
          "model_module": "@jupyter-widgets/base",
          "model_name": "LayoutModel",
          "model_module_version": "1.2.0",
          "state": {
            "_model_module": "@jupyter-widgets/base",
            "_model_module_version": "1.2.0",
            "_model_name": "LayoutModel",
            "_view_count": null,
            "_view_module": "@jupyter-widgets/base",
            "_view_module_version": "1.2.0",
            "_view_name": "LayoutView",
            "align_content": null,
            "align_items": null,
            "align_self": null,
            "border": null,
            "bottom": null,
            "display": null,
            "flex": null,
            "flex_flow": null,
            "grid_area": null,
            "grid_auto_columns": null,
            "grid_auto_flow": null,
            "grid_auto_rows": null,
            "grid_column": null,
            "grid_gap": null,
            "grid_row": null,
            "grid_template_areas": null,
            "grid_template_columns": null,
            "grid_template_rows": null,
            "height": null,
            "justify_content": null,
            "justify_items": null,
            "left": null,
            "margin": null,
            "max_height": null,
            "max_width": null,
            "min_height": null,
            "min_width": null,
            "object_fit": null,
            "object_position": null,
            "order": null,
            "overflow": null,
            "overflow_x": null,
            "overflow_y": null,
            "padding": null,
            "right": null,
            "top": null,
            "visibility": null,
            "width": null
          }
        },
        "2167d10a55bf45c7a5723523918185d7": {
          "model_module": "@jupyter-widgets/controls",
          "model_name": "DescriptionStyleModel",
          "model_module_version": "1.5.0",
          "state": {
            "_model_module": "@jupyter-widgets/controls",
            "_model_module_version": "1.5.0",
            "_model_name": "DescriptionStyleModel",
            "_view_count": null,
            "_view_module": "@jupyter-widgets/base",
            "_view_module_version": "1.2.0",
            "_view_name": "StyleView",
            "description_width": ""
          }
        },
        "a63a2ef7f0564528bde5e0943c334112": {
          "model_module": "@jupyter-widgets/controls",
          "model_name": "HBoxModel",
          "model_module_version": "1.5.0",
          "state": {
            "_dom_classes": [],
            "_model_module": "@jupyter-widgets/controls",
            "_model_module_version": "1.5.0",
            "_model_name": "HBoxModel",
            "_view_count": null,
            "_view_module": "@jupyter-widgets/controls",
            "_view_module_version": "1.5.0",
            "_view_name": "HBoxView",
            "box_style": "",
            "children": [
              "IPY_MODEL_6403fabbcdc848e9820a54474a4722b9",
              "IPY_MODEL_22e0d237dfb14fb28170c31321404fbe",
              "IPY_MODEL_913bef84dc294de78e431038a10f115c"
            ],
            "layout": "IPY_MODEL_46a227aaa7d84a60a87c80aa32a4f426"
          }
        },
        "6403fabbcdc848e9820a54474a4722b9": {
          "model_module": "@jupyter-widgets/controls",
          "model_name": "HTMLModel",
          "model_module_version": "1.5.0",
          "state": {
            "_dom_classes": [],
            "_model_module": "@jupyter-widgets/controls",
            "_model_module_version": "1.5.0",
            "_model_name": "HTMLModel",
            "_view_count": null,
            "_view_module": "@jupyter-widgets/controls",
            "_view_module_version": "1.5.0",
            "_view_name": "HTMLView",
            "description": "",
            "description_tooltip": null,
            "layout": "IPY_MODEL_7ef6027843cf46c1bfea1d55a28dd423",
            "placeholder": "​",
            "style": "IPY_MODEL_8f87d9873fa948ed88bf6625195625e9",
            "value": "Dl Size...: 100%"
          }
        },
        "22e0d237dfb14fb28170c31321404fbe": {
          "model_module": "@jupyter-widgets/controls",
          "model_name": "FloatProgressModel",
          "model_module_version": "1.5.0",
          "state": {
            "_dom_classes": [],
            "_model_module": "@jupyter-widgets/controls",
            "_model_module_version": "1.5.0",
            "_model_name": "FloatProgressModel",
            "_view_count": null,
            "_view_module": "@jupyter-widgets/controls",
            "_view_module_version": "1.5.0",
            "_view_name": "ProgressView",
            "bar_style": "success",
            "description": "",
            "description_tooltip": null,
            "layout": "IPY_MODEL_79a734a837b0498985bdc23952e58431",
            "max": 1,
            "min": 0,
            "orientation": "horizontal",
            "style": "IPY_MODEL_fe6d04dd680742ada9556cedd88d19f2",
            "value": 1
          }
        },
        "913bef84dc294de78e431038a10f115c": {
          "model_module": "@jupyter-widgets/controls",
          "model_name": "HTMLModel",
          "model_module_version": "1.5.0",
          "state": {
            "_dom_classes": [],
            "_model_module": "@jupyter-widgets/controls",
            "_model_module_version": "1.5.0",
            "_model_name": "HTMLModel",
            "_view_count": null,
            "_view_module": "@jupyter-widgets/controls",
            "_view_module_version": "1.5.0",
            "_view_name": "HTMLView",
            "description": "",
            "description_tooltip": null,
            "layout": "IPY_MODEL_ec12fb6ca09848d4bba256c776aec21f",
            "placeholder": "​",
            "style": "IPY_MODEL_47fb4f4b0cbe43a7b1b6217cf2dd77e7",
            "value": " 162/162 [00:04&lt;00:00, 70.79 MiB/s]"
          }
        },
        "46a227aaa7d84a60a87c80aa32a4f426": {
          "model_module": "@jupyter-widgets/base",
          "model_name": "LayoutModel",
          "model_module_version": "1.2.0",
          "state": {
            "_model_module": "@jupyter-widgets/base",
            "_model_module_version": "1.2.0",
            "_model_name": "LayoutModel",
            "_view_count": null,
            "_view_module": "@jupyter-widgets/base",
            "_view_module_version": "1.2.0",
            "_view_name": "LayoutView",
            "align_content": null,
            "align_items": null,
            "align_self": null,
            "border": null,
            "bottom": null,
            "display": null,
            "flex": null,
            "flex_flow": null,
            "grid_area": null,
            "grid_auto_columns": null,
            "grid_auto_flow": null,
            "grid_auto_rows": null,
            "grid_column": null,
            "grid_gap": null,
            "grid_row": null,
            "grid_template_areas": null,
            "grid_template_columns": null,
            "grid_template_rows": null,
            "height": null,
            "justify_content": null,
            "justify_items": null,
            "left": null,
            "margin": null,
            "max_height": null,
            "max_width": null,
            "min_height": null,
            "min_width": null,
            "object_fit": null,
            "object_position": null,
            "order": null,
            "overflow": null,
            "overflow_x": null,
            "overflow_y": null,
            "padding": null,
            "right": null,
            "top": null,
            "visibility": null,
            "width": null
          }
        },
        "7ef6027843cf46c1bfea1d55a28dd423": {
          "model_module": "@jupyter-widgets/base",
          "model_name": "LayoutModel",
          "model_module_version": "1.2.0",
          "state": {
            "_model_module": "@jupyter-widgets/base",
            "_model_module_version": "1.2.0",
            "_model_name": "LayoutModel",
            "_view_count": null,
            "_view_module": "@jupyter-widgets/base",
            "_view_module_version": "1.2.0",
            "_view_name": "LayoutView",
            "align_content": null,
            "align_items": null,
            "align_self": null,
            "border": null,
            "bottom": null,
            "display": null,
            "flex": null,
            "flex_flow": null,
            "grid_area": null,
            "grid_auto_columns": null,
            "grid_auto_flow": null,
            "grid_auto_rows": null,
            "grid_column": null,
            "grid_gap": null,
            "grid_row": null,
            "grid_template_areas": null,
            "grid_template_columns": null,
            "grid_template_rows": null,
            "height": null,
            "justify_content": null,
            "justify_items": null,
            "left": null,
            "margin": null,
            "max_height": null,
            "max_width": null,
            "min_height": null,
            "min_width": null,
            "object_fit": null,
            "object_position": null,
            "order": null,
            "overflow": null,
            "overflow_x": null,
            "overflow_y": null,
            "padding": null,
            "right": null,
            "top": null,
            "visibility": null,
            "width": null
          }
        },
        "8f87d9873fa948ed88bf6625195625e9": {
          "model_module": "@jupyter-widgets/controls",
          "model_name": "DescriptionStyleModel",
          "model_module_version": "1.5.0",
          "state": {
            "_model_module": "@jupyter-widgets/controls",
            "_model_module_version": "1.5.0",
            "_model_name": "DescriptionStyleModel",
            "_view_count": null,
            "_view_module": "@jupyter-widgets/base",
            "_view_module_version": "1.2.0",
            "_view_name": "StyleView",
            "description_width": ""
          }
        },
        "79a734a837b0498985bdc23952e58431": {
          "model_module": "@jupyter-widgets/base",
          "model_name": "LayoutModel",
          "model_module_version": "1.2.0",
          "state": {
            "_model_module": "@jupyter-widgets/base",
            "_model_module_version": "1.2.0",
            "_model_name": "LayoutModel",
            "_view_count": null,
            "_view_module": "@jupyter-widgets/base",
            "_view_module_version": "1.2.0",
            "_view_name": "LayoutView",
            "align_content": null,
            "align_items": null,
            "align_self": null,
            "border": null,
            "bottom": null,
            "display": null,
            "flex": null,
            "flex_flow": null,
            "grid_area": null,
            "grid_auto_columns": null,
            "grid_auto_flow": null,
            "grid_auto_rows": null,
            "grid_column": null,
            "grid_gap": null,
            "grid_row": null,
            "grid_template_areas": null,
            "grid_template_columns": null,
            "grid_template_rows": null,
            "height": null,
            "justify_content": null,
            "justify_items": null,
            "left": null,
            "margin": null,
            "max_height": null,
            "max_width": null,
            "min_height": null,
            "min_width": null,
            "object_fit": null,
            "object_position": null,
            "order": null,
            "overflow": null,
            "overflow_x": null,
            "overflow_y": null,
            "padding": null,
            "right": null,
            "top": null,
            "visibility": null,
            "width": "20px"
          }
        },
        "fe6d04dd680742ada9556cedd88d19f2": {
          "model_module": "@jupyter-widgets/controls",
          "model_name": "ProgressStyleModel",
          "model_module_version": "1.5.0",
          "state": {
            "_model_module": "@jupyter-widgets/controls",
            "_model_module_version": "1.5.0",
            "_model_name": "ProgressStyleModel",
            "_view_count": null,
            "_view_module": "@jupyter-widgets/base",
            "_view_module_version": "1.2.0",
            "_view_name": "StyleView",
            "bar_color": null,
            "description_width": ""
          }
        },
        "ec12fb6ca09848d4bba256c776aec21f": {
          "model_module": "@jupyter-widgets/base",
          "model_name": "LayoutModel",
          "model_module_version": "1.2.0",
          "state": {
            "_model_module": "@jupyter-widgets/base",
            "_model_module_version": "1.2.0",
            "_model_name": "LayoutModel",
            "_view_count": null,
            "_view_module": "@jupyter-widgets/base",
            "_view_module_version": "1.2.0",
            "_view_name": "LayoutView",
            "align_content": null,
            "align_items": null,
            "align_self": null,
            "border": null,
            "bottom": null,
            "display": null,
            "flex": null,
            "flex_flow": null,
            "grid_area": null,
            "grid_auto_columns": null,
            "grid_auto_flow": null,
            "grid_auto_rows": null,
            "grid_column": null,
            "grid_gap": null,
            "grid_row": null,
            "grid_template_areas": null,
            "grid_template_columns": null,
            "grid_template_rows": null,
            "height": null,
            "justify_content": null,
            "justify_items": null,
            "left": null,
            "margin": null,
            "max_height": null,
            "max_width": null,
            "min_height": null,
            "min_width": null,
            "object_fit": null,
            "object_position": null,
            "order": null,
            "overflow": null,
            "overflow_x": null,
            "overflow_y": null,
            "padding": null,
            "right": null,
            "top": null,
            "visibility": null,
            "width": null
          }
        },
        "47fb4f4b0cbe43a7b1b6217cf2dd77e7": {
          "model_module": "@jupyter-widgets/controls",
          "model_name": "DescriptionStyleModel",
          "model_module_version": "1.5.0",
          "state": {
            "_model_module": "@jupyter-widgets/controls",
            "_model_module_version": "1.5.0",
            "_model_name": "DescriptionStyleModel",
            "_view_count": null,
            "_view_module": "@jupyter-widgets/base",
            "_view_module_version": "1.2.0",
            "_view_name": "StyleView",
            "description_width": ""
          }
        },
        "5890d65208d94cae922e70569e4dcd86": {
          "model_module": "@jupyter-widgets/controls",
          "model_name": "HBoxModel",
          "model_module_version": "1.5.0",
          "state": {
            "_dom_classes": [],
            "_model_module": "@jupyter-widgets/controls",
            "_model_module_version": "1.5.0",
            "_model_name": "HBoxModel",
            "_view_count": null,
            "_view_module": "@jupyter-widgets/controls",
            "_view_module_version": "1.5.0",
            "_view_name": "HBoxView",
            "box_style": "",
            "children": [
              "IPY_MODEL_ebf9da0cfae341c68699d55f8d1a2b9a",
              "IPY_MODEL_773a584ea2c44c2285578bebf6d2fd71",
              "IPY_MODEL_901c41d6ab24473187c2e20290b8a612"
            ],
            "layout": "IPY_MODEL_17b8b58d58dc4f30be5b57808f8c142a"
          }
        },
        "ebf9da0cfae341c68699d55f8d1a2b9a": {
          "model_module": "@jupyter-widgets/controls",
          "model_name": "HTMLModel",
          "model_module_version": "1.5.0",
          "state": {
            "_dom_classes": [],
            "_model_module": "@jupyter-widgets/controls",
            "_model_module_version": "1.5.0",
            "_model_name": "HTMLModel",
            "_view_count": null,
            "_view_module": "@jupyter-widgets/controls",
            "_view_module_version": "1.5.0",
            "_view_name": "HTMLView",
            "description": "",
            "description_tooltip": null,
            "layout": "IPY_MODEL_c32955a235c5464382e2d058fae21f60",
            "placeholder": "​",
            "style": "IPY_MODEL_9b48ec1f85e9465990e41cdc341bacd2",
            "value": "Extraction completed...: 100%"
          }
        },
        "773a584ea2c44c2285578bebf6d2fd71": {
          "model_module": "@jupyter-widgets/controls",
          "model_name": "FloatProgressModel",
          "model_module_version": "1.5.0",
          "state": {
            "_dom_classes": [],
            "_model_module": "@jupyter-widgets/controls",
            "_model_module_version": "1.5.0",
            "_model_name": "FloatProgressModel",
            "_view_count": null,
            "_view_module": "@jupyter-widgets/controls",
            "_view_module_version": "1.5.0",
            "_view_name": "ProgressView",
            "bar_style": "success",
            "description": "",
            "description_tooltip": null,
            "layout": "IPY_MODEL_b8837f504c2f44deb6579c507dcd2bcc",
            "max": 1,
            "min": 0,
            "orientation": "horizontal",
            "style": "IPY_MODEL_182fac4ada2f439098bf1a0a104eb4af",
            "value": 1
          }
        },
        "901c41d6ab24473187c2e20290b8a612": {
          "model_module": "@jupyter-widgets/controls",
          "model_name": "HTMLModel",
          "model_module_version": "1.5.0",
          "state": {
            "_dom_classes": [],
            "_model_module": "@jupyter-widgets/controls",
            "_model_module_version": "1.5.0",
            "_model_name": "HTMLModel",
            "_view_count": null,
            "_view_module": "@jupyter-widgets/controls",
            "_view_module_version": "1.5.0",
            "_view_name": "HTMLView",
            "description": "",
            "description_tooltip": null,
            "layout": "IPY_MODEL_698c3239061c48ac8723bbae9989936b",
            "placeholder": "​",
            "style": "IPY_MODEL_d45709b768464b948e3eec47579de68c",
            "value": " 1/1 [00:04&lt;00:00,  4.83s/ file]"
          }
        },
        "17b8b58d58dc4f30be5b57808f8c142a": {
          "model_module": "@jupyter-widgets/base",
          "model_name": "LayoutModel",
          "model_module_version": "1.2.0",
          "state": {
            "_model_module": "@jupyter-widgets/base",
            "_model_module_version": "1.2.0",
            "_model_name": "LayoutModel",
            "_view_count": null,
            "_view_module": "@jupyter-widgets/base",
            "_view_module_version": "1.2.0",
            "_view_name": "LayoutView",
            "align_content": null,
            "align_items": null,
            "align_self": null,
            "border": null,
            "bottom": null,
            "display": null,
            "flex": null,
            "flex_flow": null,
            "grid_area": null,
            "grid_auto_columns": null,
            "grid_auto_flow": null,
            "grid_auto_rows": null,
            "grid_column": null,
            "grid_gap": null,
            "grid_row": null,
            "grid_template_areas": null,
            "grid_template_columns": null,
            "grid_template_rows": null,
            "height": null,
            "justify_content": null,
            "justify_items": null,
            "left": null,
            "margin": null,
            "max_height": null,
            "max_width": null,
            "min_height": null,
            "min_width": null,
            "object_fit": null,
            "object_position": null,
            "order": null,
            "overflow": null,
            "overflow_x": null,
            "overflow_y": null,
            "padding": null,
            "right": null,
            "top": null,
            "visibility": null,
            "width": null
          }
        },
        "c32955a235c5464382e2d058fae21f60": {
          "model_module": "@jupyter-widgets/base",
          "model_name": "LayoutModel",
          "model_module_version": "1.2.0",
          "state": {
            "_model_module": "@jupyter-widgets/base",
            "_model_module_version": "1.2.0",
            "_model_name": "LayoutModel",
            "_view_count": null,
            "_view_module": "@jupyter-widgets/base",
            "_view_module_version": "1.2.0",
            "_view_name": "LayoutView",
            "align_content": null,
            "align_items": null,
            "align_self": null,
            "border": null,
            "bottom": null,
            "display": null,
            "flex": null,
            "flex_flow": null,
            "grid_area": null,
            "grid_auto_columns": null,
            "grid_auto_flow": null,
            "grid_auto_rows": null,
            "grid_column": null,
            "grid_gap": null,
            "grid_row": null,
            "grid_template_areas": null,
            "grid_template_columns": null,
            "grid_template_rows": null,
            "height": null,
            "justify_content": null,
            "justify_items": null,
            "left": null,
            "margin": null,
            "max_height": null,
            "max_width": null,
            "min_height": null,
            "min_width": null,
            "object_fit": null,
            "object_position": null,
            "order": null,
            "overflow": null,
            "overflow_x": null,
            "overflow_y": null,
            "padding": null,
            "right": null,
            "top": null,
            "visibility": null,
            "width": null
          }
        },
        "9b48ec1f85e9465990e41cdc341bacd2": {
          "model_module": "@jupyter-widgets/controls",
          "model_name": "DescriptionStyleModel",
          "model_module_version": "1.5.0",
          "state": {
            "_model_module": "@jupyter-widgets/controls",
            "_model_module_version": "1.5.0",
            "_model_name": "DescriptionStyleModel",
            "_view_count": null,
            "_view_module": "@jupyter-widgets/base",
            "_view_module_version": "1.2.0",
            "_view_name": "StyleView",
            "description_width": ""
          }
        },
        "b8837f504c2f44deb6579c507dcd2bcc": {
          "model_module": "@jupyter-widgets/base",
          "model_name": "LayoutModel",
          "model_module_version": "1.2.0",
          "state": {
            "_model_module": "@jupyter-widgets/base",
            "_model_module_version": "1.2.0",
            "_model_name": "LayoutModel",
            "_view_count": null,
            "_view_module": "@jupyter-widgets/base",
            "_view_module_version": "1.2.0",
            "_view_name": "LayoutView",
            "align_content": null,
            "align_items": null,
            "align_self": null,
            "border": null,
            "bottom": null,
            "display": null,
            "flex": null,
            "flex_flow": null,
            "grid_area": null,
            "grid_auto_columns": null,
            "grid_auto_flow": null,
            "grid_auto_rows": null,
            "grid_column": null,
            "grid_gap": null,
            "grid_row": null,
            "grid_template_areas": null,
            "grid_template_columns": null,
            "grid_template_rows": null,
            "height": null,
            "justify_content": null,
            "justify_items": null,
            "left": null,
            "margin": null,
            "max_height": null,
            "max_width": null,
            "min_height": null,
            "min_width": null,
            "object_fit": null,
            "object_position": null,
            "order": null,
            "overflow": null,
            "overflow_x": null,
            "overflow_y": null,
            "padding": null,
            "right": null,
            "top": null,
            "visibility": null,
            "width": "20px"
          }
        },
        "182fac4ada2f439098bf1a0a104eb4af": {
          "model_module": "@jupyter-widgets/controls",
          "model_name": "ProgressStyleModel",
          "model_module_version": "1.5.0",
          "state": {
            "_model_module": "@jupyter-widgets/controls",
            "_model_module_version": "1.5.0",
            "_model_name": "ProgressStyleModel",
            "_view_count": null,
            "_view_module": "@jupyter-widgets/base",
            "_view_module_version": "1.2.0",
            "_view_name": "StyleView",
            "bar_color": null,
            "description_width": ""
          }
        },
        "698c3239061c48ac8723bbae9989936b": {
          "model_module": "@jupyter-widgets/base",
          "model_name": "LayoutModel",
          "model_module_version": "1.2.0",
          "state": {
            "_model_module": "@jupyter-widgets/base",
            "_model_module_version": "1.2.0",
            "_model_name": "LayoutModel",
            "_view_count": null,
            "_view_module": "@jupyter-widgets/base",
            "_view_module_version": "1.2.0",
            "_view_name": "LayoutView",
            "align_content": null,
            "align_items": null,
            "align_self": null,
            "border": null,
            "bottom": null,
            "display": null,
            "flex": null,
            "flex_flow": null,
            "grid_area": null,
            "grid_auto_columns": null,
            "grid_auto_flow": null,
            "grid_auto_rows": null,
            "grid_column": null,
            "grid_gap": null,
            "grid_row": null,
            "grid_template_areas": null,
            "grid_template_columns": null,
            "grid_template_rows": null,
            "height": null,
            "justify_content": null,
            "justify_items": null,
            "left": null,
            "margin": null,
            "max_height": null,
            "max_width": null,
            "min_height": null,
            "min_width": null,
            "object_fit": null,
            "object_position": null,
            "order": null,
            "overflow": null,
            "overflow_x": null,
            "overflow_y": null,
            "padding": null,
            "right": null,
            "top": null,
            "visibility": null,
            "width": null
          }
        },
        "d45709b768464b948e3eec47579de68c": {
          "model_module": "@jupyter-widgets/controls",
          "model_name": "DescriptionStyleModel",
          "model_module_version": "1.5.0",
          "state": {
            "_model_module": "@jupyter-widgets/controls",
            "_model_module_version": "1.5.0",
            "_model_name": "DescriptionStyleModel",
            "_view_count": null,
            "_view_module": "@jupyter-widgets/base",
            "_view_module_version": "1.2.0",
            "_view_name": "StyleView",
            "description_width": ""
          }
        },
        "24d0f9715b594325be4d764f902da7eb": {
          "model_module": "@jupyter-widgets/controls",
          "model_name": "HBoxModel",
          "model_module_version": "1.5.0",
          "state": {
            "_dom_classes": [],
            "_model_module": "@jupyter-widgets/controls",
            "_model_module_version": "1.5.0",
            "_model_name": "HBoxModel",
            "_view_count": null,
            "_view_module": "@jupyter-widgets/controls",
            "_view_module_version": "1.5.0",
            "_view_name": "HBoxView",
            "box_style": "",
            "children": [
              "IPY_MODEL_c0121b2e419848f3817477408db3f9fd",
              "IPY_MODEL_4f9fa9303bcf4e2883cbfb47d945e181",
              "IPY_MODEL_8fd0048d997b4dca8c7787c9c311abd1"
            ],
            "layout": "IPY_MODEL_e511d6bcd63044b3869f739ea1bbc3b2"
          }
        },
        "c0121b2e419848f3817477408db3f9fd": {
          "model_module": "@jupyter-widgets/controls",
          "model_name": "HTMLModel",
          "model_module_version": "1.5.0",
          "state": {
            "_dom_classes": [],
            "_model_module": "@jupyter-widgets/controls",
            "_model_module_version": "1.5.0",
            "_model_name": "HTMLModel",
            "_view_count": null,
            "_view_module": "@jupyter-widgets/controls",
            "_view_module_version": "1.5.0",
            "_view_name": "HTMLView",
            "description": "",
            "description_tooltip": null,
            "layout": "IPY_MODEL_f7988480c03c47628be8bab456285924",
            "placeholder": "​",
            "style": "IPY_MODEL_84ac4d3c25144a2c8961b7a42b68b939",
            "value": "Generating splits...: 100%"
          }
        },
        "4f9fa9303bcf4e2883cbfb47d945e181": {
          "model_module": "@jupyter-widgets/controls",
          "model_name": "FloatProgressModel",
          "model_module_version": "1.5.0",
          "state": {
            "_dom_classes": [],
            "_model_module": "@jupyter-widgets/controls",
            "_model_module_version": "1.5.0",
            "_model_name": "FloatProgressModel",
            "_view_count": null,
            "_view_module": "@jupyter-widgets/controls",
            "_view_module_version": "1.5.0",
            "_view_name": "ProgressView",
            "bar_style": "",
            "description": "",
            "description_tooltip": null,
            "layout": "IPY_MODEL_69feddae0cc94532a15ae80bd19b8869",
            "max": 2,
            "min": 0,
            "orientation": "horizontal",
            "style": "IPY_MODEL_4f0d837f0de34beca4eae5b9526de8da",
            "value": 2
          }
        },
        "8fd0048d997b4dca8c7787c9c311abd1": {
          "model_module": "@jupyter-widgets/controls",
          "model_name": "HTMLModel",
          "model_module_version": "1.5.0",
          "state": {
            "_dom_classes": [],
            "_model_module": "@jupyter-widgets/controls",
            "_model_module_version": "1.5.0",
            "_model_name": "HTMLModel",
            "_view_count": null,
            "_view_module": "@jupyter-widgets/controls",
            "_view_module_version": "1.5.0",
            "_view_name": "HTMLView",
            "description": "",
            "description_tooltip": null,
            "layout": "IPY_MODEL_927b98fb52934fef9dc3edc16e82569f",
            "placeholder": "​",
            "style": "IPY_MODEL_18ddced57589478587784278dea11701",
            "value": " 2/2 [00:48&lt;00:00, 21.43s/ splits]"
          }
        },
        "e511d6bcd63044b3869f739ea1bbc3b2": {
          "model_module": "@jupyter-widgets/base",
          "model_name": "LayoutModel",
          "model_module_version": "1.2.0",
          "state": {
            "_model_module": "@jupyter-widgets/base",
            "_model_module_version": "1.2.0",
            "_model_name": "LayoutModel",
            "_view_count": null,
            "_view_module": "@jupyter-widgets/base",
            "_view_module_version": "1.2.0",
            "_view_name": "LayoutView",
            "align_content": null,
            "align_items": null,
            "align_self": null,
            "border": null,
            "bottom": null,
            "display": null,
            "flex": null,
            "flex_flow": null,
            "grid_area": null,
            "grid_auto_columns": null,
            "grid_auto_flow": null,
            "grid_auto_rows": null,
            "grid_column": null,
            "grid_gap": null,
            "grid_row": null,
            "grid_template_areas": null,
            "grid_template_columns": null,
            "grid_template_rows": null,
            "height": null,
            "justify_content": null,
            "justify_items": null,
            "left": null,
            "margin": null,
            "max_height": null,
            "max_width": null,
            "min_height": null,
            "min_width": null,
            "object_fit": null,
            "object_position": null,
            "order": null,
            "overflow": null,
            "overflow_x": null,
            "overflow_y": null,
            "padding": null,
            "right": null,
            "top": null,
            "visibility": "hidden",
            "width": null
          }
        },
        "f7988480c03c47628be8bab456285924": {
          "model_module": "@jupyter-widgets/base",
          "model_name": "LayoutModel",
          "model_module_version": "1.2.0",
          "state": {
            "_model_module": "@jupyter-widgets/base",
            "_model_module_version": "1.2.0",
            "_model_name": "LayoutModel",
            "_view_count": null,
            "_view_module": "@jupyter-widgets/base",
            "_view_module_version": "1.2.0",
            "_view_name": "LayoutView",
            "align_content": null,
            "align_items": null,
            "align_self": null,
            "border": null,
            "bottom": null,
            "display": null,
            "flex": null,
            "flex_flow": null,
            "grid_area": null,
            "grid_auto_columns": null,
            "grid_auto_flow": null,
            "grid_auto_rows": null,
            "grid_column": null,
            "grid_gap": null,
            "grid_row": null,
            "grid_template_areas": null,
            "grid_template_columns": null,
            "grid_template_rows": null,
            "height": null,
            "justify_content": null,
            "justify_items": null,
            "left": null,
            "margin": null,
            "max_height": null,
            "max_width": null,
            "min_height": null,
            "min_width": null,
            "object_fit": null,
            "object_position": null,
            "order": null,
            "overflow": null,
            "overflow_x": null,
            "overflow_y": null,
            "padding": null,
            "right": null,
            "top": null,
            "visibility": null,
            "width": null
          }
        },
        "84ac4d3c25144a2c8961b7a42b68b939": {
          "model_module": "@jupyter-widgets/controls",
          "model_name": "DescriptionStyleModel",
          "model_module_version": "1.5.0",
          "state": {
            "_model_module": "@jupyter-widgets/controls",
            "_model_module_version": "1.5.0",
            "_model_name": "DescriptionStyleModel",
            "_view_count": null,
            "_view_module": "@jupyter-widgets/base",
            "_view_module_version": "1.2.0",
            "_view_name": "StyleView",
            "description_width": ""
          }
        },
        "69feddae0cc94532a15ae80bd19b8869": {
          "model_module": "@jupyter-widgets/base",
          "model_name": "LayoutModel",
          "model_module_version": "1.2.0",
          "state": {
            "_model_module": "@jupyter-widgets/base",
            "_model_module_version": "1.2.0",
            "_model_name": "LayoutModel",
            "_view_count": null,
            "_view_module": "@jupyter-widgets/base",
            "_view_module_version": "1.2.0",
            "_view_name": "LayoutView",
            "align_content": null,
            "align_items": null,
            "align_self": null,
            "border": null,
            "bottom": null,
            "display": null,
            "flex": null,
            "flex_flow": null,
            "grid_area": null,
            "grid_auto_columns": null,
            "grid_auto_flow": null,
            "grid_auto_rows": null,
            "grid_column": null,
            "grid_gap": null,
            "grid_row": null,
            "grid_template_areas": null,
            "grid_template_columns": null,
            "grid_template_rows": null,
            "height": null,
            "justify_content": null,
            "justify_items": null,
            "left": null,
            "margin": null,
            "max_height": null,
            "max_width": null,
            "min_height": null,
            "min_width": null,
            "object_fit": null,
            "object_position": null,
            "order": null,
            "overflow": null,
            "overflow_x": null,
            "overflow_y": null,
            "padding": null,
            "right": null,
            "top": null,
            "visibility": null,
            "width": null
          }
        },
        "4f0d837f0de34beca4eae5b9526de8da": {
          "model_module": "@jupyter-widgets/controls",
          "model_name": "ProgressStyleModel",
          "model_module_version": "1.5.0",
          "state": {
            "_model_module": "@jupyter-widgets/controls",
            "_model_module_version": "1.5.0",
            "_model_name": "ProgressStyleModel",
            "_view_count": null,
            "_view_module": "@jupyter-widgets/base",
            "_view_module_version": "1.2.0",
            "_view_name": "StyleView",
            "bar_color": null,
            "description_width": ""
          }
        },
        "927b98fb52934fef9dc3edc16e82569f": {
          "model_module": "@jupyter-widgets/base",
          "model_name": "LayoutModel",
          "model_module_version": "1.2.0",
          "state": {
            "_model_module": "@jupyter-widgets/base",
            "_model_module_version": "1.2.0",
            "_model_name": "LayoutModel",
            "_view_count": null,
            "_view_module": "@jupyter-widgets/base",
            "_view_module_version": "1.2.0",
            "_view_name": "LayoutView",
            "align_content": null,
            "align_items": null,
            "align_self": null,
            "border": null,
            "bottom": null,
            "display": null,
            "flex": null,
            "flex_flow": null,
            "grid_area": null,
            "grid_auto_columns": null,
            "grid_auto_flow": null,
            "grid_auto_rows": null,
            "grid_column": null,
            "grid_gap": null,
            "grid_row": null,
            "grid_template_areas": null,
            "grid_template_columns": null,
            "grid_template_rows": null,
            "height": null,
            "justify_content": null,
            "justify_items": null,
            "left": null,
            "margin": null,
            "max_height": null,
            "max_width": null,
            "min_height": null,
            "min_width": null,
            "object_fit": null,
            "object_position": null,
            "order": null,
            "overflow": null,
            "overflow_x": null,
            "overflow_y": null,
            "padding": null,
            "right": null,
            "top": null,
            "visibility": null,
            "width": null
          }
        },
        "18ddced57589478587784278dea11701": {
          "model_module": "@jupyter-widgets/controls",
          "model_name": "DescriptionStyleModel",
          "model_module_version": "1.5.0",
          "state": {
            "_model_module": "@jupyter-widgets/controls",
            "_model_module_version": "1.5.0",
            "_model_name": "DescriptionStyleModel",
            "_view_count": null,
            "_view_module": "@jupyter-widgets/base",
            "_view_module_version": "1.2.0",
            "_view_name": "StyleView",
            "description_width": ""
          }
        },
        "65c6d43b209c478b971272846e130550": {
          "model_module": "@jupyter-widgets/controls",
          "model_name": "HBoxModel",
          "model_module_version": "1.5.0",
          "state": {
            "_dom_classes": [],
            "_model_module": "@jupyter-widgets/controls",
            "_model_module_version": "1.5.0",
            "_model_name": "HBoxModel",
            "_view_count": null,
            "_view_module": "@jupyter-widgets/controls",
            "_view_module_version": "1.5.0",
            "_view_name": "HBoxView",
            "box_style": "",
            "children": [
              "IPY_MODEL_38689f426c3d47ebbb17552f4972ae89",
              "IPY_MODEL_88b54bec59854723b58b78c1236001bb",
              "IPY_MODEL_8758600c6ce742aab5664dccfe4611d0"
            ],
            "layout": "IPY_MODEL_ce3b27a4a2544c6c867144c61cb4a8fc"
          }
        },
        "38689f426c3d47ebbb17552f4972ae89": {
          "model_module": "@jupyter-widgets/controls",
          "model_name": "HTMLModel",
          "model_module_version": "1.5.0",
          "state": {
            "_dom_classes": [],
            "_model_module": "@jupyter-widgets/controls",
            "_model_module_version": "1.5.0",
            "_model_name": "HTMLModel",
            "_view_count": null,
            "_view_module": "@jupyter-widgets/controls",
            "_view_module_version": "1.5.0",
            "_view_name": "HTMLView",
            "description": "",
            "description_tooltip": null,
            "layout": "IPY_MODEL_5b850bba644342b8860650cde7ce090c",
            "placeholder": "​",
            "style": "IPY_MODEL_ebca4a14d3eb4059a52c254aba469895",
            "value": "Generating train examples...: 100%"
          }
        },
        "88b54bec59854723b58b78c1236001bb": {
          "model_module": "@jupyter-widgets/controls",
          "model_name": "FloatProgressModel",
          "model_module_version": "1.5.0",
          "state": {
            "_dom_classes": [],
            "_model_module": "@jupyter-widgets/controls",
            "_model_module_version": "1.5.0",
            "_model_name": "FloatProgressModel",
            "_view_count": null,
            "_view_module": "@jupyter-widgets/controls",
            "_view_module_version": "1.5.0",
            "_view_name": "ProgressView",
            "bar_style": "",
            "description": "",
            "description_tooltip": null,
            "layout": "IPY_MODEL_eb199b7ac5a34d8bbb0287ba85e400e5",
            "max": 50000,
            "min": 0,
            "orientation": "horizontal",
            "style": "IPY_MODEL_73996bba404a468a87fe19ec0cae4c4f",
            "value": 50000
          }
        },
        "8758600c6ce742aab5664dccfe4611d0": {
          "model_module": "@jupyter-widgets/controls",
          "model_name": "HTMLModel",
          "model_module_version": "1.5.0",
          "state": {
            "_dom_classes": [],
            "_model_module": "@jupyter-widgets/controls",
            "_model_module_version": "1.5.0",
            "_model_name": "HTMLModel",
            "_view_count": null,
            "_view_module": "@jupyter-widgets/controls",
            "_view_module_version": "1.5.0",
            "_view_name": "HTMLView",
            "description": "",
            "description_tooltip": null,
            "layout": "IPY_MODEL_e0b3a3db33714952a6fff23b49518951",
            "placeholder": "​",
            "style": "IPY_MODEL_f14ab56f68094b5198493c7d5ab24a44",
            "value": " 49927/50000 [00:40&lt;00:00, 1348.16 examples/s]"
          }
        },
        "ce3b27a4a2544c6c867144c61cb4a8fc": {
          "model_module": "@jupyter-widgets/base",
          "model_name": "LayoutModel",
          "model_module_version": "1.2.0",
          "state": {
            "_model_module": "@jupyter-widgets/base",
            "_model_module_version": "1.2.0",
            "_model_name": "LayoutModel",
            "_view_count": null,
            "_view_module": "@jupyter-widgets/base",
            "_view_module_version": "1.2.0",
            "_view_name": "LayoutView",
            "align_content": null,
            "align_items": null,
            "align_self": null,
            "border": null,
            "bottom": null,
            "display": null,
            "flex": null,
            "flex_flow": null,
            "grid_area": null,
            "grid_auto_columns": null,
            "grid_auto_flow": null,
            "grid_auto_rows": null,
            "grid_column": null,
            "grid_gap": null,
            "grid_row": null,
            "grid_template_areas": null,
            "grid_template_columns": null,
            "grid_template_rows": null,
            "height": null,
            "justify_content": null,
            "justify_items": null,
            "left": null,
            "margin": null,
            "max_height": null,
            "max_width": null,
            "min_height": null,
            "min_width": null,
            "object_fit": null,
            "object_position": null,
            "order": null,
            "overflow": null,
            "overflow_x": null,
            "overflow_y": null,
            "padding": null,
            "right": null,
            "top": null,
            "visibility": "hidden",
            "width": null
          }
        },
        "5b850bba644342b8860650cde7ce090c": {
          "model_module": "@jupyter-widgets/base",
          "model_name": "LayoutModel",
          "model_module_version": "1.2.0",
          "state": {
            "_model_module": "@jupyter-widgets/base",
            "_model_module_version": "1.2.0",
            "_model_name": "LayoutModel",
            "_view_count": null,
            "_view_module": "@jupyter-widgets/base",
            "_view_module_version": "1.2.0",
            "_view_name": "LayoutView",
            "align_content": null,
            "align_items": null,
            "align_self": null,
            "border": null,
            "bottom": null,
            "display": null,
            "flex": null,
            "flex_flow": null,
            "grid_area": null,
            "grid_auto_columns": null,
            "grid_auto_flow": null,
            "grid_auto_rows": null,
            "grid_column": null,
            "grid_gap": null,
            "grid_row": null,
            "grid_template_areas": null,
            "grid_template_columns": null,
            "grid_template_rows": null,
            "height": null,
            "justify_content": null,
            "justify_items": null,
            "left": null,
            "margin": null,
            "max_height": null,
            "max_width": null,
            "min_height": null,
            "min_width": null,
            "object_fit": null,
            "object_position": null,
            "order": null,
            "overflow": null,
            "overflow_x": null,
            "overflow_y": null,
            "padding": null,
            "right": null,
            "top": null,
            "visibility": null,
            "width": null
          }
        },
        "ebca4a14d3eb4059a52c254aba469895": {
          "model_module": "@jupyter-widgets/controls",
          "model_name": "DescriptionStyleModel",
          "model_module_version": "1.5.0",
          "state": {
            "_model_module": "@jupyter-widgets/controls",
            "_model_module_version": "1.5.0",
            "_model_name": "DescriptionStyleModel",
            "_view_count": null,
            "_view_module": "@jupyter-widgets/base",
            "_view_module_version": "1.2.0",
            "_view_name": "StyleView",
            "description_width": ""
          }
        },
        "eb199b7ac5a34d8bbb0287ba85e400e5": {
          "model_module": "@jupyter-widgets/base",
          "model_name": "LayoutModel",
          "model_module_version": "1.2.0",
          "state": {
            "_model_module": "@jupyter-widgets/base",
            "_model_module_version": "1.2.0",
            "_model_name": "LayoutModel",
            "_view_count": null,
            "_view_module": "@jupyter-widgets/base",
            "_view_module_version": "1.2.0",
            "_view_name": "LayoutView",
            "align_content": null,
            "align_items": null,
            "align_self": null,
            "border": null,
            "bottom": null,
            "display": null,
            "flex": null,
            "flex_flow": null,
            "grid_area": null,
            "grid_auto_columns": null,
            "grid_auto_flow": null,
            "grid_auto_rows": null,
            "grid_column": null,
            "grid_gap": null,
            "grid_row": null,
            "grid_template_areas": null,
            "grid_template_columns": null,
            "grid_template_rows": null,
            "height": null,
            "justify_content": null,
            "justify_items": null,
            "left": null,
            "margin": null,
            "max_height": null,
            "max_width": null,
            "min_height": null,
            "min_width": null,
            "object_fit": null,
            "object_position": null,
            "order": null,
            "overflow": null,
            "overflow_x": null,
            "overflow_y": null,
            "padding": null,
            "right": null,
            "top": null,
            "visibility": null,
            "width": null
          }
        },
        "73996bba404a468a87fe19ec0cae4c4f": {
          "model_module": "@jupyter-widgets/controls",
          "model_name": "ProgressStyleModel",
          "model_module_version": "1.5.0",
          "state": {
            "_model_module": "@jupyter-widgets/controls",
            "_model_module_version": "1.5.0",
            "_model_name": "ProgressStyleModel",
            "_view_count": null,
            "_view_module": "@jupyter-widgets/base",
            "_view_module_version": "1.2.0",
            "_view_name": "StyleView",
            "bar_color": null,
            "description_width": ""
          }
        },
        "e0b3a3db33714952a6fff23b49518951": {
          "model_module": "@jupyter-widgets/base",
          "model_name": "LayoutModel",
          "model_module_version": "1.2.0",
          "state": {
            "_model_module": "@jupyter-widgets/base",
            "_model_module_version": "1.2.0",
            "_model_name": "LayoutModel",
            "_view_count": null,
            "_view_module": "@jupyter-widgets/base",
            "_view_module_version": "1.2.0",
            "_view_name": "LayoutView",
            "align_content": null,
            "align_items": null,
            "align_self": null,
            "border": null,
            "bottom": null,
            "display": null,
            "flex": null,
            "flex_flow": null,
            "grid_area": null,
            "grid_auto_columns": null,
            "grid_auto_flow": null,
            "grid_auto_rows": null,
            "grid_column": null,
            "grid_gap": null,
            "grid_row": null,
            "grid_template_areas": null,
            "grid_template_columns": null,
            "grid_template_rows": null,
            "height": null,
            "justify_content": null,
            "justify_items": null,
            "left": null,
            "margin": null,
            "max_height": null,
            "max_width": null,
            "min_height": null,
            "min_width": null,
            "object_fit": null,
            "object_position": null,
            "order": null,
            "overflow": null,
            "overflow_x": null,
            "overflow_y": null,
            "padding": null,
            "right": null,
            "top": null,
            "visibility": null,
            "width": null
          }
        },
        "f14ab56f68094b5198493c7d5ab24a44": {
          "model_module": "@jupyter-widgets/controls",
          "model_name": "DescriptionStyleModel",
          "model_module_version": "1.5.0",
          "state": {
            "_model_module": "@jupyter-widgets/controls",
            "_model_module_version": "1.5.0",
            "_model_name": "DescriptionStyleModel",
            "_view_count": null,
            "_view_module": "@jupyter-widgets/base",
            "_view_module_version": "1.2.0",
            "_view_name": "StyleView",
            "description_width": ""
          }
        },
        "1a88ad202989406f93056dbdb1c79b4d": {
          "model_module": "@jupyter-widgets/controls",
          "model_name": "HBoxModel",
          "model_module_version": "1.5.0",
          "state": {
            "_dom_classes": [],
            "_model_module": "@jupyter-widgets/controls",
            "_model_module_version": "1.5.0",
            "_model_name": "HBoxModel",
            "_view_count": null,
            "_view_module": "@jupyter-widgets/controls",
            "_view_module_version": "1.5.0",
            "_view_name": "HBoxView",
            "box_style": "",
            "children": [
              "IPY_MODEL_dd05e66372eb41a2bbe69bdba12577d7",
              "IPY_MODEL_22d93d6e607f484c8a832ba0d9faefa9",
              "IPY_MODEL_83c6750a830e42229476b71afca0acb2"
            ],
            "layout": "IPY_MODEL_7d2752d224e443dfa8f160b94c698336"
          }
        },
        "dd05e66372eb41a2bbe69bdba12577d7": {
          "model_module": "@jupyter-widgets/controls",
          "model_name": "HTMLModel",
          "model_module_version": "1.5.0",
          "state": {
            "_dom_classes": [],
            "_model_module": "@jupyter-widgets/controls",
            "_model_module_version": "1.5.0",
            "_model_name": "HTMLModel",
            "_view_count": null,
            "_view_module": "@jupyter-widgets/controls",
            "_view_module_version": "1.5.0",
            "_view_name": "HTMLView",
            "description": "",
            "description_tooltip": null,
            "layout": "IPY_MODEL_79867070849d4c928c276cb610d2a385",
            "placeholder": "​",
            "style": "IPY_MODEL_4174a00b68044cfc956eb63f32352014",
            "value": "Shuffling ~/tensorflow_datasets/cifar10/3.0.2.incomplete65T1AU/cifar10-train.tfrecord*...:  82%"
          }
        },
        "22d93d6e607f484c8a832ba0d9faefa9": {
          "model_module": "@jupyter-widgets/controls",
          "model_name": "FloatProgressModel",
          "model_module_version": "1.5.0",
          "state": {
            "_dom_classes": [],
            "_model_module": "@jupyter-widgets/controls",
            "_model_module_version": "1.5.0",
            "_model_name": "FloatProgressModel",
            "_view_count": null,
            "_view_module": "@jupyter-widgets/controls",
            "_view_module_version": "1.5.0",
            "_view_name": "ProgressView",
            "bar_style": "",
            "description": "",
            "description_tooltip": null,
            "layout": "IPY_MODEL_8a299f68701142a78c97522bdd9d9de8",
            "max": 50000,
            "min": 0,
            "orientation": "horizontal",
            "style": "IPY_MODEL_76a05a37d3c34e9b865bad17a822a272",
            "value": 50000
          }
        },
        "83c6750a830e42229476b71afca0acb2": {
          "model_module": "@jupyter-widgets/controls",
          "model_name": "HTMLModel",
          "model_module_version": "1.5.0",
          "state": {
            "_dom_classes": [],
            "_model_module": "@jupyter-widgets/controls",
            "_model_module_version": "1.5.0",
            "_model_name": "HTMLModel",
            "_view_count": null,
            "_view_module": "@jupyter-widgets/controls",
            "_view_module_version": "1.5.0",
            "_view_name": "HTMLView",
            "description": "",
            "description_tooltip": null,
            "layout": "IPY_MODEL_57cbfdd051d64347abf8674c7dda03bd",
            "placeholder": "​",
            "style": "IPY_MODEL_76759a45670a4638a8b9091a8051d6af",
            "value": " 40909/50000 [00:00&lt;00:00, 150258.50 examples/s]"
          }
        },
        "7d2752d224e443dfa8f160b94c698336": {
          "model_module": "@jupyter-widgets/base",
          "model_name": "LayoutModel",
          "model_module_version": "1.2.0",
          "state": {
            "_model_module": "@jupyter-widgets/base",
            "_model_module_version": "1.2.0",
            "_model_name": "LayoutModel",
            "_view_count": null,
            "_view_module": "@jupyter-widgets/base",
            "_view_module_version": "1.2.0",
            "_view_name": "LayoutView",
            "align_content": null,
            "align_items": null,
            "align_self": null,
            "border": null,
            "bottom": null,
            "display": null,
            "flex": null,
            "flex_flow": null,
            "grid_area": null,
            "grid_auto_columns": null,
            "grid_auto_flow": null,
            "grid_auto_rows": null,
            "grid_column": null,
            "grid_gap": null,
            "grid_row": null,
            "grid_template_areas": null,
            "grid_template_columns": null,
            "grid_template_rows": null,
            "height": null,
            "justify_content": null,
            "justify_items": null,
            "left": null,
            "margin": null,
            "max_height": null,
            "max_width": null,
            "min_height": null,
            "min_width": null,
            "object_fit": null,
            "object_position": null,
            "order": null,
            "overflow": null,
            "overflow_x": null,
            "overflow_y": null,
            "padding": null,
            "right": null,
            "top": null,
            "visibility": "hidden",
            "width": null
          }
        },
        "79867070849d4c928c276cb610d2a385": {
          "model_module": "@jupyter-widgets/base",
          "model_name": "LayoutModel",
          "model_module_version": "1.2.0",
          "state": {
            "_model_module": "@jupyter-widgets/base",
            "_model_module_version": "1.2.0",
            "_model_name": "LayoutModel",
            "_view_count": null,
            "_view_module": "@jupyter-widgets/base",
            "_view_module_version": "1.2.0",
            "_view_name": "LayoutView",
            "align_content": null,
            "align_items": null,
            "align_self": null,
            "border": null,
            "bottom": null,
            "display": null,
            "flex": null,
            "flex_flow": null,
            "grid_area": null,
            "grid_auto_columns": null,
            "grid_auto_flow": null,
            "grid_auto_rows": null,
            "grid_column": null,
            "grid_gap": null,
            "grid_row": null,
            "grid_template_areas": null,
            "grid_template_columns": null,
            "grid_template_rows": null,
            "height": null,
            "justify_content": null,
            "justify_items": null,
            "left": null,
            "margin": null,
            "max_height": null,
            "max_width": null,
            "min_height": null,
            "min_width": null,
            "object_fit": null,
            "object_position": null,
            "order": null,
            "overflow": null,
            "overflow_x": null,
            "overflow_y": null,
            "padding": null,
            "right": null,
            "top": null,
            "visibility": null,
            "width": null
          }
        },
        "4174a00b68044cfc956eb63f32352014": {
          "model_module": "@jupyter-widgets/controls",
          "model_name": "DescriptionStyleModel",
          "model_module_version": "1.5.0",
          "state": {
            "_model_module": "@jupyter-widgets/controls",
            "_model_module_version": "1.5.0",
            "_model_name": "DescriptionStyleModel",
            "_view_count": null,
            "_view_module": "@jupyter-widgets/base",
            "_view_module_version": "1.2.0",
            "_view_name": "StyleView",
            "description_width": ""
          }
        },
        "8a299f68701142a78c97522bdd9d9de8": {
          "model_module": "@jupyter-widgets/base",
          "model_name": "LayoutModel",
          "model_module_version": "1.2.0",
          "state": {
            "_model_module": "@jupyter-widgets/base",
            "_model_module_version": "1.2.0",
            "_model_name": "LayoutModel",
            "_view_count": null,
            "_view_module": "@jupyter-widgets/base",
            "_view_module_version": "1.2.0",
            "_view_name": "LayoutView",
            "align_content": null,
            "align_items": null,
            "align_self": null,
            "border": null,
            "bottom": null,
            "display": null,
            "flex": null,
            "flex_flow": null,
            "grid_area": null,
            "grid_auto_columns": null,
            "grid_auto_flow": null,
            "grid_auto_rows": null,
            "grid_column": null,
            "grid_gap": null,
            "grid_row": null,
            "grid_template_areas": null,
            "grid_template_columns": null,
            "grid_template_rows": null,
            "height": null,
            "justify_content": null,
            "justify_items": null,
            "left": null,
            "margin": null,
            "max_height": null,
            "max_width": null,
            "min_height": null,
            "min_width": null,
            "object_fit": null,
            "object_position": null,
            "order": null,
            "overflow": null,
            "overflow_x": null,
            "overflow_y": null,
            "padding": null,
            "right": null,
            "top": null,
            "visibility": null,
            "width": null
          }
        },
        "76a05a37d3c34e9b865bad17a822a272": {
          "model_module": "@jupyter-widgets/controls",
          "model_name": "ProgressStyleModel",
          "model_module_version": "1.5.0",
          "state": {
            "_model_module": "@jupyter-widgets/controls",
            "_model_module_version": "1.5.0",
            "_model_name": "ProgressStyleModel",
            "_view_count": null,
            "_view_module": "@jupyter-widgets/base",
            "_view_module_version": "1.2.0",
            "_view_name": "StyleView",
            "bar_color": null,
            "description_width": ""
          }
        },
        "57cbfdd051d64347abf8674c7dda03bd": {
          "model_module": "@jupyter-widgets/base",
          "model_name": "LayoutModel",
          "model_module_version": "1.2.0",
          "state": {
            "_model_module": "@jupyter-widgets/base",
            "_model_module_version": "1.2.0",
            "_model_name": "LayoutModel",
            "_view_count": null,
            "_view_module": "@jupyter-widgets/base",
            "_view_module_version": "1.2.0",
            "_view_name": "LayoutView",
            "align_content": null,
            "align_items": null,
            "align_self": null,
            "border": null,
            "bottom": null,
            "display": null,
            "flex": null,
            "flex_flow": null,
            "grid_area": null,
            "grid_auto_columns": null,
            "grid_auto_flow": null,
            "grid_auto_rows": null,
            "grid_column": null,
            "grid_gap": null,
            "grid_row": null,
            "grid_template_areas": null,
            "grid_template_columns": null,
            "grid_template_rows": null,
            "height": null,
            "justify_content": null,
            "justify_items": null,
            "left": null,
            "margin": null,
            "max_height": null,
            "max_width": null,
            "min_height": null,
            "min_width": null,
            "object_fit": null,
            "object_position": null,
            "order": null,
            "overflow": null,
            "overflow_x": null,
            "overflow_y": null,
            "padding": null,
            "right": null,
            "top": null,
            "visibility": null,
            "width": null
          }
        },
        "76759a45670a4638a8b9091a8051d6af": {
          "model_module": "@jupyter-widgets/controls",
          "model_name": "DescriptionStyleModel",
          "model_module_version": "1.5.0",
          "state": {
            "_model_module": "@jupyter-widgets/controls",
            "_model_module_version": "1.5.0",
            "_model_name": "DescriptionStyleModel",
            "_view_count": null,
            "_view_module": "@jupyter-widgets/base",
            "_view_module_version": "1.2.0",
            "_view_name": "StyleView",
            "description_width": ""
          }
        },
        "2f29844f285746b3ae75f3ac72dc8507": {
          "model_module": "@jupyter-widgets/controls",
          "model_name": "HBoxModel",
          "model_module_version": "1.5.0",
          "state": {
            "_dom_classes": [],
            "_model_module": "@jupyter-widgets/controls",
            "_model_module_version": "1.5.0",
            "_model_name": "HBoxModel",
            "_view_count": null,
            "_view_module": "@jupyter-widgets/controls",
            "_view_module_version": "1.5.0",
            "_view_name": "HBoxView",
            "box_style": "",
            "children": [
              "IPY_MODEL_f52583d4655f477085b74fba76e7b111",
              "IPY_MODEL_2339fbe8e3364a77a7a8e7a14c150fc8",
              "IPY_MODEL_d0c5423c0d8043d982716b9c8451951c"
            ],
            "layout": "IPY_MODEL_e943f4a52fa1433088a306f1fcec72ab"
          }
        },
        "f52583d4655f477085b74fba76e7b111": {
          "model_module": "@jupyter-widgets/controls",
          "model_name": "HTMLModel",
          "model_module_version": "1.5.0",
          "state": {
            "_dom_classes": [],
            "_model_module": "@jupyter-widgets/controls",
            "_model_module_version": "1.5.0",
            "_model_name": "HTMLModel",
            "_view_count": null,
            "_view_module": "@jupyter-widgets/controls",
            "_view_module_version": "1.5.0",
            "_view_name": "HTMLView",
            "description": "",
            "description_tooltip": null,
            "layout": "IPY_MODEL_27e3a232f1534ae683d3716d4a70c4b1",
            "placeholder": "​",
            "style": "IPY_MODEL_0778aeaf68074655acd7616a31192357",
            "value": "Generating test examples...:  99%"
          }
        },
        "2339fbe8e3364a77a7a8e7a14c150fc8": {
          "model_module": "@jupyter-widgets/controls",
          "model_name": "FloatProgressModel",
          "model_module_version": "1.5.0",
          "state": {
            "_dom_classes": [],
            "_model_module": "@jupyter-widgets/controls",
            "_model_module_version": "1.5.0",
            "_model_name": "FloatProgressModel",
            "_view_count": null,
            "_view_module": "@jupyter-widgets/controls",
            "_view_module_version": "1.5.0",
            "_view_name": "ProgressView",
            "bar_style": "",
            "description": "",
            "description_tooltip": null,
            "layout": "IPY_MODEL_d8313ca9cf8d4bbf9dd7ff732fe04bd8",
            "max": 10000,
            "min": 0,
            "orientation": "horizontal",
            "style": "IPY_MODEL_fd1d5f467f94460ca67721640154b2ff",
            "value": 10000
          }
        },
        "d0c5423c0d8043d982716b9c8451951c": {
          "model_module": "@jupyter-widgets/controls",
          "model_name": "HTMLModel",
          "model_module_version": "1.5.0",
          "state": {
            "_dom_classes": [],
            "_model_module": "@jupyter-widgets/controls",
            "_model_module_version": "1.5.0",
            "_model_name": "HTMLModel",
            "_view_count": null,
            "_view_module": "@jupyter-widgets/controls",
            "_view_module_version": "1.5.0",
            "_view_name": "HTMLView",
            "description": "",
            "description_tooltip": null,
            "layout": "IPY_MODEL_0ac11b032c9f4f28be56698374303e0c",
            "placeholder": "​",
            "style": "IPY_MODEL_1e4c4ff2826142149c5303176505267a",
            "value": " 9907/10000 [00:07&lt;00:00, 1353.46 examples/s]"
          }
        },
        "e943f4a52fa1433088a306f1fcec72ab": {
          "model_module": "@jupyter-widgets/base",
          "model_name": "LayoutModel",
          "model_module_version": "1.2.0",
          "state": {
            "_model_module": "@jupyter-widgets/base",
            "_model_module_version": "1.2.0",
            "_model_name": "LayoutModel",
            "_view_count": null,
            "_view_module": "@jupyter-widgets/base",
            "_view_module_version": "1.2.0",
            "_view_name": "LayoutView",
            "align_content": null,
            "align_items": null,
            "align_self": null,
            "border": null,
            "bottom": null,
            "display": null,
            "flex": null,
            "flex_flow": null,
            "grid_area": null,
            "grid_auto_columns": null,
            "grid_auto_flow": null,
            "grid_auto_rows": null,
            "grid_column": null,
            "grid_gap": null,
            "grid_row": null,
            "grid_template_areas": null,
            "grid_template_columns": null,
            "grid_template_rows": null,
            "height": null,
            "justify_content": null,
            "justify_items": null,
            "left": null,
            "margin": null,
            "max_height": null,
            "max_width": null,
            "min_height": null,
            "min_width": null,
            "object_fit": null,
            "object_position": null,
            "order": null,
            "overflow": null,
            "overflow_x": null,
            "overflow_y": null,
            "padding": null,
            "right": null,
            "top": null,
            "visibility": "hidden",
            "width": null
          }
        },
        "27e3a232f1534ae683d3716d4a70c4b1": {
          "model_module": "@jupyter-widgets/base",
          "model_name": "LayoutModel",
          "model_module_version": "1.2.0",
          "state": {
            "_model_module": "@jupyter-widgets/base",
            "_model_module_version": "1.2.0",
            "_model_name": "LayoutModel",
            "_view_count": null,
            "_view_module": "@jupyter-widgets/base",
            "_view_module_version": "1.2.0",
            "_view_name": "LayoutView",
            "align_content": null,
            "align_items": null,
            "align_self": null,
            "border": null,
            "bottom": null,
            "display": null,
            "flex": null,
            "flex_flow": null,
            "grid_area": null,
            "grid_auto_columns": null,
            "grid_auto_flow": null,
            "grid_auto_rows": null,
            "grid_column": null,
            "grid_gap": null,
            "grid_row": null,
            "grid_template_areas": null,
            "grid_template_columns": null,
            "grid_template_rows": null,
            "height": null,
            "justify_content": null,
            "justify_items": null,
            "left": null,
            "margin": null,
            "max_height": null,
            "max_width": null,
            "min_height": null,
            "min_width": null,
            "object_fit": null,
            "object_position": null,
            "order": null,
            "overflow": null,
            "overflow_x": null,
            "overflow_y": null,
            "padding": null,
            "right": null,
            "top": null,
            "visibility": null,
            "width": null
          }
        },
        "0778aeaf68074655acd7616a31192357": {
          "model_module": "@jupyter-widgets/controls",
          "model_name": "DescriptionStyleModel",
          "model_module_version": "1.5.0",
          "state": {
            "_model_module": "@jupyter-widgets/controls",
            "_model_module_version": "1.5.0",
            "_model_name": "DescriptionStyleModel",
            "_view_count": null,
            "_view_module": "@jupyter-widgets/base",
            "_view_module_version": "1.2.0",
            "_view_name": "StyleView",
            "description_width": ""
          }
        },
        "d8313ca9cf8d4bbf9dd7ff732fe04bd8": {
          "model_module": "@jupyter-widgets/base",
          "model_name": "LayoutModel",
          "model_module_version": "1.2.0",
          "state": {
            "_model_module": "@jupyter-widgets/base",
            "_model_module_version": "1.2.0",
            "_model_name": "LayoutModel",
            "_view_count": null,
            "_view_module": "@jupyter-widgets/base",
            "_view_module_version": "1.2.0",
            "_view_name": "LayoutView",
            "align_content": null,
            "align_items": null,
            "align_self": null,
            "border": null,
            "bottom": null,
            "display": null,
            "flex": null,
            "flex_flow": null,
            "grid_area": null,
            "grid_auto_columns": null,
            "grid_auto_flow": null,
            "grid_auto_rows": null,
            "grid_column": null,
            "grid_gap": null,
            "grid_row": null,
            "grid_template_areas": null,
            "grid_template_columns": null,
            "grid_template_rows": null,
            "height": null,
            "justify_content": null,
            "justify_items": null,
            "left": null,
            "margin": null,
            "max_height": null,
            "max_width": null,
            "min_height": null,
            "min_width": null,
            "object_fit": null,
            "object_position": null,
            "order": null,
            "overflow": null,
            "overflow_x": null,
            "overflow_y": null,
            "padding": null,
            "right": null,
            "top": null,
            "visibility": null,
            "width": null
          }
        },
        "fd1d5f467f94460ca67721640154b2ff": {
          "model_module": "@jupyter-widgets/controls",
          "model_name": "ProgressStyleModel",
          "model_module_version": "1.5.0",
          "state": {
            "_model_module": "@jupyter-widgets/controls",
            "_model_module_version": "1.5.0",
            "_model_name": "ProgressStyleModel",
            "_view_count": null,
            "_view_module": "@jupyter-widgets/base",
            "_view_module_version": "1.2.0",
            "_view_name": "StyleView",
            "bar_color": null,
            "description_width": ""
          }
        },
        "0ac11b032c9f4f28be56698374303e0c": {
          "model_module": "@jupyter-widgets/base",
          "model_name": "LayoutModel",
          "model_module_version": "1.2.0",
          "state": {
            "_model_module": "@jupyter-widgets/base",
            "_model_module_version": "1.2.0",
            "_model_name": "LayoutModel",
            "_view_count": null,
            "_view_module": "@jupyter-widgets/base",
            "_view_module_version": "1.2.0",
            "_view_name": "LayoutView",
            "align_content": null,
            "align_items": null,
            "align_self": null,
            "border": null,
            "bottom": null,
            "display": null,
            "flex": null,
            "flex_flow": null,
            "grid_area": null,
            "grid_auto_columns": null,
            "grid_auto_flow": null,
            "grid_auto_rows": null,
            "grid_column": null,
            "grid_gap": null,
            "grid_row": null,
            "grid_template_areas": null,
            "grid_template_columns": null,
            "grid_template_rows": null,
            "height": null,
            "justify_content": null,
            "justify_items": null,
            "left": null,
            "margin": null,
            "max_height": null,
            "max_width": null,
            "min_height": null,
            "min_width": null,
            "object_fit": null,
            "object_position": null,
            "order": null,
            "overflow": null,
            "overflow_x": null,
            "overflow_y": null,
            "padding": null,
            "right": null,
            "top": null,
            "visibility": null,
            "width": null
          }
        },
        "1e4c4ff2826142149c5303176505267a": {
          "model_module": "@jupyter-widgets/controls",
          "model_name": "DescriptionStyleModel",
          "model_module_version": "1.5.0",
          "state": {
            "_model_module": "@jupyter-widgets/controls",
            "_model_module_version": "1.5.0",
            "_model_name": "DescriptionStyleModel",
            "_view_count": null,
            "_view_module": "@jupyter-widgets/base",
            "_view_module_version": "1.2.0",
            "_view_name": "StyleView",
            "description_width": ""
          }
        },
        "9e28f53b94d545ea9d1339e8478471d9": {
          "model_module": "@jupyter-widgets/controls",
          "model_name": "HBoxModel",
          "model_module_version": "1.5.0",
          "state": {
            "_dom_classes": [],
            "_model_module": "@jupyter-widgets/controls",
            "_model_module_version": "1.5.0",
            "_model_name": "HBoxModel",
            "_view_count": null,
            "_view_module": "@jupyter-widgets/controls",
            "_view_module_version": "1.5.0",
            "_view_name": "HBoxView",
            "box_style": "",
            "children": [
              "IPY_MODEL_cce1e2f37151434b8c55639faebffa00",
              "IPY_MODEL_42a953b0e47646d2ada51cf1c7d74bb1",
              "IPY_MODEL_d6352cad2c584791b02514c1c2b77650"
            ],
            "layout": "IPY_MODEL_246ac252e94544e2be84f7f18f77db02"
          }
        },
        "cce1e2f37151434b8c55639faebffa00": {
          "model_module": "@jupyter-widgets/controls",
          "model_name": "HTMLModel",
          "model_module_version": "1.5.0",
          "state": {
            "_dom_classes": [],
            "_model_module": "@jupyter-widgets/controls",
            "_model_module_version": "1.5.0",
            "_model_name": "HTMLModel",
            "_view_count": null,
            "_view_module": "@jupyter-widgets/controls",
            "_view_module_version": "1.5.0",
            "_view_name": "HTMLView",
            "description": "",
            "description_tooltip": null,
            "layout": "IPY_MODEL_441fab32fbfb4cfa93edcba45287a30e",
            "placeholder": "​",
            "style": "IPY_MODEL_3ee0e098e03e45408ae597a9c89b49ee",
            "value": "Shuffling ~/tensorflow_datasets/cifar10/3.0.2.incomplete65T1AU/cifar10-test.tfrecord*...:   0%"
          }
        },
        "42a953b0e47646d2ada51cf1c7d74bb1": {
          "model_module": "@jupyter-widgets/controls",
          "model_name": "FloatProgressModel",
          "model_module_version": "1.5.0",
          "state": {
            "_dom_classes": [],
            "_model_module": "@jupyter-widgets/controls",
            "_model_module_version": "1.5.0",
            "_model_name": "FloatProgressModel",
            "_view_count": null,
            "_view_module": "@jupyter-widgets/controls",
            "_view_module_version": "1.5.0",
            "_view_name": "ProgressView",
            "bar_style": "",
            "description": "",
            "description_tooltip": null,
            "layout": "IPY_MODEL_d7b15261848d4632ad4784643e9991ab",
            "max": 10000,
            "min": 0,
            "orientation": "horizontal",
            "style": "IPY_MODEL_98313cdbb2d64234ab896cb922712ab0",
            "value": 10000
          }
        },
        "d6352cad2c584791b02514c1c2b77650": {
          "model_module": "@jupyter-widgets/controls",
          "model_name": "HTMLModel",
          "model_module_version": "1.5.0",
          "state": {
            "_dom_classes": [],
            "_model_module": "@jupyter-widgets/controls",
            "_model_module_version": "1.5.0",
            "_model_name": "HTMLModel",
            "_view_count": null,
            "_view_module": "@jupyter-widgets/controls",
            "_view_module_version": "1.5.0",
            "_view_name": "HTMLView",
            "description": "",
            "description_tooltip": null,
            "layout": "IPY_MODEL_1165d2c39e9546f5b34508151409de5b",
            "placeholder": "​",
            "style": "IPY_MODEL_de72534e92de48849e76d6858b638ae4",
            "value": " 0/10000 [00:00&lt;?, ? examples/s]"
          }
        },
        "246ac252e94544e2be84f7f18f77db02": {
          "model_module": "@jupyter-widgets/base",
          "model_name": "LayoutModel",
          "model_module_version": "1.2.0",
          "state": {
            "_model_module": "@jupyter-widgets/base",
            "_model_module_version": "1.2.0",
            "_model_name": "LayoutModel",
            "_view_count": null,
            "_view_module": "@jupyter-widgets/base",
            "_view_module_version": "1.2.0",
            "_view_name": "LayoutView",
            "align_content": null,
            "align_items": null,
            "align_self": null,
            "border": null,
            "bottom": null,
            "display": null,
            "flex": null,
            "flex_flow": null,
            "grid_area": null,
            "grid_auto_columns": null,
            "grid_auto_flow": null,
            "grid_auto_rows": null,
            "grid_column": null,
            "grid_gap": null,
            "grid_row": null,
            "grid_template_areas": null,
            "grid_template_columns": null,
            "grid_template_rows": null,
            "height": null,
            "justify_content": null,
            "justify_items": null,
            "left": null,
            "margin": null,
            "max_height": null,
            "max_width": null,
            "min_height": null,
            "min_width": null,
            "object_fit": null,
            "object_position": null,
            "order": null,
            "overflow": null,
            "overflow_x": null,
            "overflow_y": null,
            "padding": null,
            "right": null,
            "top": null,
            "visibility": "hidden",
            "width": null
          }
        },
        "441fab32fbfb4cfa93edcba45287a30e": {
          "model_module": "@jupyter-widgets/base",
          "model_name": "LayoutModel",
          "model_module_version": "1.2.0",
          "state": {
            "_model_module": "@jupyter-widgets/base",
            "_model_module_version": "1.2.0",
            "_model_name": "LayoutModel",
            "_view_count": null,
            "_view_module": "@jupyter-widgets/base",
            "_view_module_version": "1.2.0",
            "_view_name": "LayoutView",
            "align_content": null,
            "align_items": null,
            "align_self": null,
            "border": null,
            "bottom": null,
            "display": null,
            "flex": null,
            "flex_flow": null,
            "grid_area": null,
            "grid_auto_columns": null,
            "grid_auto_flow": null,
            "grid_auto_rows": null,
            "grid_column": null,
            "grid_gap": null,
            "grid_row": null,
            "grid_template_areas": null,
            "grid_template_columns": null,
            "grid_template_rows": null,
            "height": null,
            "justify_content": null,
            "justify_items": null,
            "left": null,
            "margin": null,
            "max_height": null,
            "max_width": null,
            "min_height": null,
            "min_width": null,
            "object_fit": null,
            "object_position": null,
            "order": null,
            "overflow": null,
            "overflow_x": null,
            "overflow_y": null,
            "padding": null,
            "right": null,
            "top": null,
            "visibility": null,
            "width": null
          }
        },
        "3ee0e098e03e45408ae597a9c89b49ee": {
          "model_module": "@jupyter-widgets/controls",
          "model_name": "DescriptionStyleModel",
          "model_module_version": "1.5.0",
          "state": {
            "_model_module": "@jupyter-widgets/controls",
            "_model_module_version": "1.5.0",
            "_model_name": "DescriptionStyleModel",
            "_view_count": null,
            "_view_module": "@jupyter-widgets/base",
            "_view_module_version": "1.2.0",
            "_view_name": "StyleView",
            "description_width": ""
          }
        },
        "d7b15261848d4632ad4784643e9991ab": {
          "model_module": "@jupyter-widgets/base",
          "model_name": "LayoutModel",
          "model_module_version": "1.2.0",
          "state": {
            "_model_module": "@jupyter-widgets/base",
            "_model_module_version": "1.2.0",
            "_model_name": "LayoutModel",
            "_view_count": null,
            "_view_module": "@jupyter-widgets/base",
            "_view_module_version": "1.2.0",
            "_view_name": "LayoutView",
            "align_content": null,
            "align_items": null,
            "align_self": null,
            "border": null,
            "bottom": null,
            "display": null,
            "flex": null,
            "flex_flow": null,
            "grid_area": null,
            "grid_auto_columns": null,
            "grid_auto_flow": null,
            "grid_auto_rows": null,
            "grid_column": null,
            "grid_gap": null,
            "grid_row": null,
            "grid_template_areas": null,
            "grid_template_columns": null,
            "grid_template_rows": null,
            "height": null,
            "justify_content": null,
            "justify_items": null,
            "left": null,
            "margin": null,
            "max_height": null,
            "max_width": null,
            "min_height": null,
            "min_width": null,
            "object_fit": null,
            "object_position": null,
            "order": null,
            "overflow": null,
            "overflow_x": null,
            "overflow_y": null,
            "padding": null,
            "right": null,
            "top": null,
            "visibility": null,
            "width": null
          }
        },
        "98313cdbb2d64234ab896cb922712ab0": {
          "model_module": "@jupyter-widgets/controls",
          "model_name": "ProgressStyleModel",
          "model_module_version": "1.5.0",
          "state": {
            "_model_module": "@jupyter-widgets/controls",
            "_model_module_version": "1.5.0",
            "_model_name": "ProgressStyleModel",
            "_view_count": null,
            "_view_module": "@jupyter-widgets/base",
            "_view_module_version": "1.2.0",
            "_view_name": "StyleView",
            "bar_color": null,
            "description_width": ""
          }
        },
        "1165d2c39e9546f5b34508151409de5b": {
          "model_module": "@jupyter-widgets/base",
          "model_name": "LayoutModel",
          "model_module_version": "1.2.0",
          "state": {
            "_model_module": "@jupyter-widgets/base",
            "_model_module_version": "1.2.0",
            "_model_name": "LayoutModel",
            "_view_count": null,
            "_view_module": "@jupyter-widgets/base",
            "_view_module_version": "1.2.0",
            "_view_name": "LayoutView",
            "align_content": null,
            "align_items": null,
            "align_self": null,
            "border": null,
            "bottom": null,
            "display": null,
            "flex": null,
            "flex_flow": null,
            "grid_area": null,
            "grid_auto_columns": null,
            "grid_auto_flow": null,
            "grid_auto_rows": null,
            "grid_column": null,
            "grid_gap": null,
            "grid_row": null,
            "grid_template_areas": null,
            "grid_template_columns": null,
            "grid_template_rows": null,
            "height": null,
            "justify_content": null,
            "justify_items": null,
            "left": null,
            "margin": null,
            "max_height": null,
            "max_width": null,
            "min_height": null,
            "min_width": null,
            "object_fit": null,
            "object_position": null,
            "order": null,
            "overflow": null,
            "overflow_x": null,
            "overflow_y": null,
            "padding": null,
            "right": null,
            "top": null,
            "visibility": null,
            "width": null
          }
        },
        "de72534e92de48849e76d6858b638ae4": {
          "model_module": "@jupyter-widgets/controls",
          "model_name": "DescriptionStyleModel",
          "model_module_version": "1.5.0",
          "state": {
            "_model_module": "@jupyter-widgets/controls",
            "_model_module_version": "1.5.0",
            "_model_name": "DescriptionStyleModel",
            "_view_count": null,
            "_view_module": "@jupyter-widgets/base",
            "_view_module_version": "1.2.0",
            "_view_name": "StyleView",
            "description_width": ""
          }
        }
      }
    }
  },
  "cells": [
    {
      "cell_type": "markdown",
      "source": [
        "# 1. Ablation Study\n",
        "\n",
        "애블레이션 연구(ablation study), 즉 제거 연구를 지금부터 해볼까 한다.\n",
        "\n",
        "딥러닝 논문은 여러 가지 방법들을 결합해서 어떤 문제를 해결하는 방법을 제시한다. 이때 제안한 방법들의 유효함을 증명하기 위해서 보통 딥러닝 논문에서는 해당 방법을 \"제거\"한 모델로 수행한 실험과, 해당 방법을 추가한 모델로 수행한 실험의 결과를 비교한다. 애블레이션 연구란 이처럼 \"아이디어를 제거해 봄으로써\" 제안한 방법이 어떻게 성능이나 문제에 해결에 효과를 주는지를 확인하는 실험이다.\n",
        "\n",
        "아래는 ResNet 논문에서 제시한 residual connection의 애블레이션 연구이다. 이미지넷(ImageNet) 검증 데이터셋(validation dataset)에 대한 Top-1 error rate을 지표로써 사용해 residual connection이 없는 이란 네트워크(plain net)와 ResNet을 비교했다. 이 비교를 통해서 ResNet이 residual connection을 활용해서 깊은 네트워크를 쌓았을 때, 이를 통한 성능 향상을 얻을 수 있음을 증명하고 있다."
      ],
      "metadata": {
        "id": "t0_-jpeQn6eJ"
      }
    },
    {
      "cell_type": "markdown",
      "source": [
        "# 2. Ablation Study 실습 (1) - CIFAR-10 데이터셋 준비하기\n",
        "\n",
        "ResNet이 막 공개된 시점으로 돌아갔다고 생각해 보면, 우리는 이 방법이 논문으로는 유효하다고 들었지만 직접 실험을 해서 성능을 평가하고, 다른 실험에 적용해 보기로 한다.\n",
        "\n",
        "ResNet의 성능을 평가하기 위해서 원래 논문과 동일한 이미지넷의 훈련/검증 데이터셋을 사용해 학습과 평가를 진행하면 좋겠지만, 우리는 컴퓨팅 자원이 부족하므로 이미지넷보다는 적당한 크기의 CIFAR-10 데이터셋으로 평가해보도록 하자.\n",
        "\n",
        "지금부터 우리의 실험은 CIFAR-10에 대해 일반 네트워크와 ResNet을 구현해서 이 둘을 비교해서 ResNet 및 residual connection의 유효성을 확인하는 것이다. ResNet에 대한 설명은 ResNet 이론 자료를 다시 한번 확인토록 한다."
      ],
      "metadata": {
        "id": "xjV2Lz1LoGER"
      }
    },
    {
      "cell_type": "markdown",
      "source": [
        "## 1) CIFAR-10\n",
        "\n",
        "그럼 우리가 이번에 모델을 사용해서 풀어야 할 문제가 무엇인지 확인해 본다. CIFAR-10 데이터셋은 10개 카테고리에 대해 총 6만장의 이미지가 있다. 각 이미지들의 가로, 세로는 각각 32픽셀(pixel)이다. MNIST에서 손글씨가 나타내는 숫자를 분류해 냈던 것처럼 CIFAR-10 데이터셋을 사용해 물체의 종류를 분류해 보는 것이다.\n",
        "\n",
        "먼저 데이터셋을 준비한다. 만약 텐서플로우에서 제공하는 tensorflow-datasets 패키지가 설치되어 있지 않다면 아래 명령어를 설치!!"
      ],
      "metadata": {
        "id": "tEKIKAdkoprg"
      }
    },
    {
      "cell_type": "code",
      "source": [
        "! pip install tensorflow-datasets"
      ],
      "metadata": {
        "colab": {
          "base_uri": "https://localhost:8080/"
        },
        "id": "z5dDVVnxTrif",
        "outputId": "735f14a3-c0ca-4fa9-b3f8-bf84b015729b"
      },
      "execution_count": 1,
      "outputs": [
        {
          "output_type": "stream",
          "name": "stdout",
          "text": [
            "Looking in indexes: https://pypi.org/simple, https://us-python.pkg.dev/colab-wheels/public/simple/\n",
            "Requirement already satisfied: tensorflow-datasets in /usr/local/lib/python3.7/dist-packages (4.6.0)\n",
            "Requirement already satisfied: termcolor in /usr/local/lib/python3.7/dist-packages (from tensorflow-datasets) (1.1.0)\n",
            "Requirement already satisfied: absl-py in /usr/local/lib/python3.7/dist-packages (from tensorflow-datasets) (1.2.0)\n",
            "Requirement already satisfied: tensorflow-metadata in /usr/local/lib/python3.7/dist-packages (from tensorflow-datasets) (1.10.0)\n",
            "Requirement already satisfied: dill in /usr/local/lib/python3.7/dist-packages (from tensorflow-datasets) (0.3.5.1)\n",
            "Requirement already satisfied: toml in /usr/local/lib/python3.7/dist-packages (from tensorflow-datasets) (0.10.2)\n",
            "Requirement already satisfied: protobuf>=3.12.2 in /usr/local/lib/python3.7/dist-packages (from tensorflow-datasets) (3.17.3)\n",
            "Requirement already satisfied: typing-extensions in /usr/local/lib/python3.7/dist-packages (from tensorflow-datasets) (4.1.1)\n",
            "Requirement already satisfied: promise in /usr/local/lib/python3.7/dist-packages (from tensorflow-datasets) (2.3)\n",
            "Requirement already satisfied: tqdm in /usr/local/lib/python3.7/dist-packages (from tensorflow-datasets) (4.64.1)\n",
            "Requirement already satisfied: importlib-resources in /usr/local/lib/python3.7/dist-packages (from tensorflow-datasets) (5.9.0)\n",
            "Requirement already satisfied: six in /usr/local/lib/python3.7/dist-packages (from tensorflow-datasets) (1.15.0)\n",
            "Requirement already satisfied: etils[epath] in /usr/local/lib/python3.7/dist-packages (from tensorflow-datasets) (0.7.1)\n",
            "Requirement already satisfied: requests>=2.19.0 in /usr/local/lib/python3.7/dist-packages (from tensorflow-datasets) (2.23.0)\n",
            "Requirement already satisfied: numpy in /usr/local/lib/python3.7/dist-packages (from tensorflow-datasets) (1.21.6)\n",
            "Requirement already satisfied: idna<3,>=2.5 in /usr/local/lib/python3.7/dist-packages (from requests>=2.19.0->tensorflow-datasets) (2.10)\n",
            "Requirement already satisfied: urllib3!=1.25.0,!=1.25.1,<1.26,>=1.21.1 in /usr/local/lib/python3.7/dist-packages (from requests>=2.19.0->tensorflow-datasets) (1.24.3)\n",
            "Requirement already satisfied: chardet<4,>=3.0.2 in /usr/local/lib/python3.7/dist-packages (from requests>=2.19.0->tensorflow-datasets) (3.0.4)\n",
            "Requirement already satisfied: certifi>=2017.4.17 in /usr/local/lib/python3.7/dist-packages (from requests>=2.19.0->tensorflow-datasets) (2022.6.15)\n",
            "Requirement already satisfied: zipp in /usr/local/lib/python3.7/dist-packages (from etils[epath]->tensorflow-datasets) (3.8.1)\n",
            "Requirement already satisfied: googleapis-common-protos<2,>=1.52.0 in /usr/local/lib/python3.7/dist-packages (from tensorflow-metadata->tensorflow-datasets) (1.56.4)\n"
          ]
        }
      ]
    },
    {
      "cell_type": "code",
      "execution_count": 2,
      "metadata": {
        "id": "AZPUU88oS0bi"
      },
      "outputs": [],
      "source": [
        "# TensorFlow and tf.keras\n",
        "import tensorflow as tf\n",
        "from tensorflow import keras\n",
        "\n",
        "# Helper libraries\n",
        "import numpy as np\n",
        "import matplotlib.pyplot as plt\n",
        "\n",
        "import tensorflow_datasets as tfds"
      ]
    },
    {
      "cell_type": "code",
      "source": [
        "# Tensorflow가 활용할 GPU가 장착되어 있는지 확인\n",
        "tf.config.list_physical_devices('GPU')"
      ],
      "metadata": {
        "colab": {
          "base_uri": "https://localhost:8080/"
        },
        "id": "DnqtNIGbTM3l",
        "outputId": "76aafd19-3931-4f99-d0a3-f51bbfe2f949"
      },
      "execution_count": 3,
      "outputs": [
        {
          "output_type": "execute_result",
          "data": {
            "text/plain": [
              "[PhysicalDevice(name='/physical_device:GPU:0', device_type='GPU')]"
            ]
          },
          "metadata": {},
          "execution_count": 3
        }
      ]
    },
    {
      "cell_type": "code",
      "source": [
        "import urllib3\n",
        "urllib3.disable_warnings()\n",
        "\n",
        "# tfds.disable_progress_bar()   # 이 주석을 풀면 데이터셋 다운로드 과정의 프로그레스 바가 나오지 않는다.\n",
        "\n",
        "(ds_train, ds_test), ds_info = tfds.load(\n",
        "    'cifar10',\n",
        "    split=['train', 'test'],\n",
        "    shuffle_files=True,\n",
        "    with_info = True,\n",
        ")"
      ],
      "metadata": {
        "colab": {
          "base_uri": "https://localhost:8080/",
          "height": 169,
          "referenced_widgets": [
            "a3e9f6cf054e41aaaa1cb9580c70bff7",
            "9b259e5b1720448c96361ef086b6028c",
            "0a17b86fb00442289dd911c8e595c07d",
            "91cd27fb5b6543909bc0290faf5b3c0c",
            "aa9c8d8d426a4b939ac585bc76525008",
            "c471dd3e5ec04e9d93c6bd3a4cefb40a",
            "4ffe9952633d428ab6efeeda7bdaad7c",
            "c336ba7a5ef344a68821ed797b4d3204",
            "f5d2da29e2b54c64a9736ca2fa9ecefc",
            "2ce44cb1d2414f708e074a71d1e8a446",
            "2167d10a55bf45c7a5723523918185d7",
            "a63a2ef7f0564528bde5e0943c334112",
            "6403fabbcdc848e9820a54474a4722b9",
            "22e0d237dfb14fb28170c31321404fbe",
            "913bef84dc294de78e431038a10f115c",
            "46a227aaa7d84a60a87c80aa32a4f426",
            "7ef6027843cf46c1bfea1d55a28dd423",
            "8f87d9873fa948ed88bf6625195625e9",
            "79a734a837b0498985bdc23952e58431",
            "fe6d04dd680742ada9556cedd88d19f2",
            "ec12fb6ca09848d4bba256c776aec21f",
            "47fb4f4b0cbe43a7b1b6217cf2dd77e7",
            "5890d65208d94cae922e70569e4dcd86",
            "ebf9da0cfae341c68699d55f8d1a2b9a",
            "773a584ea2c44c2285578bebf6d2fd71",
            "901c41d6ab24473187c2e20290b8a612",
            "17b8b58d58dc4f30be5b57808f8c142a",
            "c32955a235c5464382e2d058fae21f60",
            "9b48ec1f85e9465990e41cdc341bacd2",
            "b8837f504c2f44deb6579c507dcd2bcc",
            "182fac4ada2f439098bf1a0a104eb4af",
            "698c3239061c48ac8723bbae9989936b",
            "d45709b768464b948e3eec47579de68c",
            "24d0f9715b594325be4d764f902da7eb",
            "c0121b2e419848f3817477408db3f9fd",
            "4f9fa9303bcf4e2883cbfb47d945e181",
            "8fd0048d997b4dca8c7787c9c311abd1",
            "e511d6bcd63044b3869f739ea1bbc3b2",
            "f7988480c03c47628be8bab456285924",
            "84ac4d3c25144a2c8961b7a42b68b939",
            "69feddae0cc94532a15ae80bd19b8869",
            "4f0d837f0de34beca4eae5b9526de8da",
            "927b98fb52934fef9dc3edc16e82569f",
            "18ddced57589478587784278dea11701",
            "65c6d43b209c478b971272846e130550",
            "38689f426c3d47ebbb17552f4972ae89",
            "88b54bec59854723b58b78c1236001bb",
            "8758600c6ce742aab5664dccfe4611d0",
            "ce3b27a4a2544c6c867144c61cb4a8fc",
            "5b850bba644342b8860650cde7ce090c",
            "ebca4a14d3eb4059a52c254aba469895",
            "eb199b7ac5a34d8bbb0287ba85e400e5",
            "73996bba404a468a87fe19ec0cae4c4f",
            "e0b3a3db33714952a6fff23b49518951",
            "f14ab56f68094b5198493c7d5ab24a44",
            "1a88ad202989406f93056dbdb1c79b4d",
            "dd05e66372eb41a2bbe69bdba12577d7",
            "22d93d6e607f484c8a832ba0d9faefa9",
            "83c6750a830e42229476b71afca0acb2",
            "7d2752d224e443dfa8f160b94c698336",
            "79867070849d4c928c276cb610d2a385",
            "4174a00b68044cfc956eb63f32352014",
            "8a299f68701142a78c97522bdd9d9de8",
            "76a05a37d3c34e9b865bad17a822a272",
            "57cbfdd051d64347abf8674c7dda03bd",
            "76759a45670a4638a8b9091a8051d6af",
            "2f29844f285746b3ae75f3ac72dc8507",
            "f52583d4655f477085b74fba76e7b111",
            "2339fbe8e3364a77a7a8e7a14c150fc8",
            "d0c5423c0d8043d982716b9c8451951c",
            "e943f4a52fa1433088a306f1fcec72ab",
            "27e3a232f1534ae683d3716d4a70c4b1",
            "0778aeaf68074655acd7616a31192357",
            "d8313ca9cf8d4bbf9dd7ff732fe04bd8",
            "fd1d5f467f94460ca67721640154b2ff",
            "0ac11b032c9f4f28be56698374303e0c",
            "1e4c4ff2826142149c5303176505267a",
            "9e28f53b94d545ea9d1339e8478471d9",
            "cce1e2f37151434b8c55639faebffa00",
            "42a953b0e47646d2ada51cf1c7d74bb1",
            "d6352cad2c584791b02514c1c2b77650",
            "246ac252e94544e2be84f7f18f77db02",
            "441fab32fbfb4cfa93edcba45287a30e",
            "3ee0e098e03e45408ae597a9c89b49ee",
            "d7b15261848d4632ad4784643e9991ab",
            "98313cdbb2d64234ab896cb922712ab0",
            "1165d2c39e9546f5b34508151409de5b",
            "de72534e92de48849e76d6858b638ae4"
          ]
        },
        "id": "YkrxO-zJTbjS",
        "outputId": "2ed52c2b-f45d-4386-f22b-13076f54383e"
      },
      "execution_count": 4,
      "outputs": [
        {
          "output_type": "stream",
          "name": "stdout",
          "text": [
            "\u001b[1mDownloading and preparing dataset 162.17 MiB (download: 162.17 MiB, generated: 132.40 MiB, total: 294.58 MiB) to ~/tensorflow_datasets/cifar10/3.0.2...\u001b[0m\n"
          ]
        },
        {
          "output_type": "display_data",
          "data": {
            "text/plain": [
              "Dl Completed...: 0 url [00:00, ? url/s]"
            ],
            "application/vnd.jupyter.widget-view+json": {
              "version_major": 2,
              "version_minor": 0,
              "model_id": "a3e9f6cf054e41aaaa1cb9580c70bff7"
            }
          },
          "metadata": {}
        },
        {
          "output_type": "display_data",
          "data": {
            "text/plain": [
              "Dl Size...: 0 MiB [00:00, ? MiB/s]"
            ],
            "application/vnd.jupyter.widget-view+json": {
              "version_major": 2,
              "version_minor": 0,
              "model_id": "a63a2ef7f0564528bde5e0943c334112"
            }
          },
          "metadata": {}
        },
        {
          "output_type": "display_data",
          "data": {
            "text/plain": [
              "Extraction completed...: 0 file [00:00, ? file/s]"
            ],
            "application/vnd.jupyter.widget-view+json": {
              "version_major": 2,
              "version_minor": 0,
              "model_id": "5890d65208d94cae922e70569e4dcd86"
            }
          },
          "metadata": {}
        },
        {
          "output_type": "display_data",
          "data": {
            "text/plain": [
              "Generating splits...:   0%|          | 0/2 [00:00<?, ? splits/s]"
            ],
            "application/vnd.jupyter.widget-view+json": {
              "version_major": 2,
              "version_minor": 0,
              "model_id": "24d0f9715b594325be4d764f902da7eb"
            }
          },
          "metadata": {}
        },
        {
          "output_type": "display_data",
          "data": {
            "text/plain": [
              "Generating train examples...:   0%|          | 0/50000 [00:00<?, ? examples/s]"
            ],
            "application/vnd.jupyter.widget-view+json": {
              "version_major": 2,
              "version_minor": 0,
              "model_id": "65c6d43b209c478b971272846e130550"
            }
          },
          "metadata": {}
        },
        {
          "output_type": "display_data",
          "data": {
            "text/plain": [
              "Shuffling ~/tensorflow_datasets/cifar10/3.0.2.incomplete65T1AU/cifar10-train.tfrecord*...:   0%|          | 0/…"
            ],
            "application/vnd.jupyter.widget-view+json": {
              "version_major": 2,
              "version_minor": 0,
              "model_id": "1a88ad202989406f93056dbdb1c79b4d"
            }
          },
          "metadata": {}
        },
        {
          "output_type": "display_data",
          "data": {
            "text/plain": [
              "Generating test examples...:   0%|          | 0/10000 [00:00<?, ? examples/s]"
            ],
            "application/vnd.jupyter.widget-view+json": {
              "version_major": 2,
              "version_minor": 0,
              "model_id": "2f29844f285746b3ae75f3ac72dc8507"
            }
          },
          "metadata": {}
        },
        {
          "output_type": "display_data",
          "data": {
            "text/plain": [
              "Shuffling ~/tensorflow_datasets/cifar10/3.0.2.incomplete65T1AU/cifar10-test.tfrecord*...:   0%|          | 0/1…"
            ],
            "application/vnd.jupyter.widget-view+json": {
              "version_major": 2,
              "version_minor": 0,
              "model_id": "9e28f53b94d545ea9d1339e8478471d9"
            }
          },
          "metadata": {}
        },
        {
          "output_type": "stream",
          "name": "stdout",
          "text": [
            "\u001b[1mDataset cifar10 downloaded and prepared to ~/tensorflow_datasets/cifar10/3.0.2. Subsequent calls will reuse this data.\u001b[0m\n"
          ]
        }
      ]
    },
    {
      "cell_type": "markdown",
      "source": [
        "CIFAR-10은 대용량 데이터셋이 아니긴 하지만 GPU가 장착된 상태여도 로드되는 데 대략 몇 분 정도 소요가 된다. 데이터셋이 준비되면 클래스의 수와 클래스에 따른 이름을 볼 수 있다. DatasetBuilder의 info를 통해 정보를 확인하면 된다.\n",
        "\n",
        "> ❗️ tfds.load()는 기본적으로 ~/tensorflow_datasets 경로에 데이터셋을 다운로드합니다. 데이터셋 크기가 커서 하나의 폴더에 모아놓고 사용하는 것도 좋은 방법이므로, ~/aiffel 프로젝트 폴더가 아닌 기본 경로에 다운 받아 사용하시면 됩니다. 혹시 데이터셋 경로를 바꾸고 싶으시다면, data_dir 인자를 사용하세요."
      ],
      "metadata": {
        "id": "jeFNHV0QobOv"
      }
    },
    {
      "cell_type": "code",
      "source": [
        "# Tensorflow 데이터셋을 로드하면 꼭 feature 정보를 확인!!\n",
        "print(ds_info.features)"
      ],
      "metadata": {
        "colab": {
          "base_uri": "https://localhost:8080/"
        },
        "id": "BRMQ5nE8V3uo",
        "outputId": "7093662b-0a19-4da9-cb84-ff6ad7d5779d"
      },
      "execution_count": 5,
      "outputs": [
        {
          "output_type": "stream",
          "name": "stdout",
          "text": [
            "FeaturesDict({\n",
            "    'id': Text(shape=(), dtype=tf.string),\n",
            "    'image': Image(shape=(32, 32, 3), dtype=tf.uint8),\n",
            "    'label': ClassLabel(shape=(), dtype=tf.int64, num_classes=10),\n",
            "})\n"
          ]
        }
      ]
    },
    {
      "cell_type": "code",
      "source": [
        "# 데이터의 개수도 확인\n",
        "print(tf.data.experimental.cardinality(ds_train))\n",
        "print(tf.data.experimental.cardinality(ds_test))"
      ],
      "metadata": {
        "colab": {
          "base_uri": "https://localhost:8080/"
        },
        "id": "wYb0SAqeV-w7",
        "outputId": "443b7ebe-239c-4535-b8aa-91eeba145eb8"
      },
      "execution_count": 6,
      "outputs": [
        {
          "output_type": "stream",
          "name": "stdout",
          "text": [
            "tf.Tensor(50000, shape=(), dtype=int64)\n",
            "tf.Tensor(10000, shape=(), dtype=int64)\n"
          ]
        }
      ]
    },
    {
      "cell_type": "markdown",
      "source": [
        "## 2) Normalization\n",
        "\n",
        "Data Normalization은 데이터의 범위를 사용자가 원하는 범위로 제한하는 것이다. 이미지 데이터의 경우 픽셀 정보를 0 ~ 255 사이의 값을 가지는데, 이를 255로 나누어주면 0 ~ 1.0 사이의 값을 가지게 된다. 위의 예를 수식으로 간단하게 쓴다면, (정규화하고자 하는 값 - 데이터 값들 중 최솟값) / (데이터 값들 중 최댓값 - 데이터 값들 중 최솟값) 이 된다. 라고 표현하고 아래와 같이 찐 수식으로 표현 가능하다.\n",
        "\n",
        "$\\frac{x−x_{min}}{x_{max}−x_{min}}$ \n",
        "\n",
        "Data Normalization을 하는 이유는 머신러닝에서 scale이 큰 feature의 영향이 비대해지는 것을 방지하고, 딥러닝에서 Local optimum에 빠질 위험을 줄이는 것이다. 이는 곧 학습 속도를 향상시킬 수 있음을 의미한다.\n",
        "\n",
        "아래 그림을 보면 왼쪽이 정규화하지 않은 경우의 Cost function이고 오른쪽이 정규화를 시킨 Cost function일 때, 정규화를 시킨 경우가 Local optimum에서 떠 빨리 빠져나올 수 있다는 것을 직관적으로 이해할 수 있다. 그리고 scikit-learn에서 MinMaxScler로 쉽게 사용할 수 있다."
      ],
      "metadata": {
        "id": "DbDb6Wp2okPg"
      }
    },
    {
      "cell_type": "markdown",
      "source": [
        "![image.png](data:image/png;base64,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)"
      ],
      "metadata": {
        "id": "3LHmENC3plhm"
      }
    },
    {
      "cell_type": "markdown",
      "source": [
        "우리는 \"가로 1920, 세로 1080 픽셀의 이미지\"처럼 픽셀의 수를 사용해 이미지의 크기를 말할 수 있음을 알고 있다. 이 때 한 픽셀이 가진 채널(channel) 값은 픽셀의 색을 표현한다. RGB는 Red, Green, Blue로 세 가지 색을 조합해서 우리가 보는 다양한 색을 만들어 내는 방법이다. 그레이 스케일(gray scale)은 단순하게 흑과 백만을 표현하는 하나의 채널을 가진 이미지이다. RGB나 그레이 스케일 외에도 HSV, CMYK 등 인쇄 또는 이미지 작업을 위해 사용되는 다양한 채널 체계가 있다.\n",
        "\n",
        "우리의 모델에 넣어주기 전에는 각 채널별 최댓값인 255로 정규화를 시킴으로써 이미지의 표현이 0과 1사이로 들어오도록 해 준다."
      ],
      "metadata": {
        "id": "OAr-O4QXppZx"
      }
    },
    {
      "cell_type": "code",
      "source": [
        "def normalize_and_resize_img(image, label):\n",
        "  \"\"\"Normalizes images : `uint8 -> `float32`.\"\"\"\n",
        "  # image = tf.image.resize(image, [32,32])\n",
        "  return tf.cast(image, tf.float32) / 255., label"
      ],
      "metadata": {
        "id": "WcAHqB0WWL66"
      },
      "execution_count": 7,
      "outputs": []
    },
    {
      "cell_type": "code",
      "source": [
        "def apply_normalize_on_dataset(ds, is_test=False, batch_size=16):\n",
        "  ds = ds.map(\n",
        "      normalize_and_resize_img,\n",
        "      num_parallel_calls=1\n",
        "  )\n",
        "  ds = ds.batch(batch_size)\n",
        "  if not is_test:\n",
        "    ds = ds.repeat()\n",
        "    ds = ds.shuffle(200)\n",
        "  ds = ds.prefetch(tf.data.experimental.AUTOTUNE)\n",
        "  return ds"
      ],
      "metadata": {
        "id": "LZO0m1-qWeY6"
      },
      "execution_count": 8,
      "outputs": []
    },
    {
      "cell_type": "markdown",
      "source": [
        "MNIST 데이터셋 클래스는 0부터 9까지의 숫자, 총 10가지가 있다. CIFAR-10 데이터셋 또한 이름에서 알 수 있듯이 10개의 클래스를 가진다. 아래 코드로 각 클래스가 어떻게 구성되는지, 어떤 이미지가 있는지 확인해 보도록 한다."
      ],
      "metadata": {
        "id": "YkIpIC4opsbF"
      }
    },
    {
      "cell_type": "code",
      "source": [
        "ds_info.features[\"label\"].num_classes"
      ],
      "metadata": {
        "colab": {
          "base_uri": "https://localhost:8080/"
        },
        "id": "sxgvIfVBXIz7",
        "outputId": "bf1e8151-5996-475e-fd39-41e61df4a3ae"
      },
      "execution_count": 9,
      "outputs": [
        {
          "output_type": "execute_result",
          "data": {
            "text/plain": [
              "10"
            ]
          },
          "metadata": {},
          "execution_count": 9
        }
      ]
    },
    {
      "cell_type": "code",
      "source": [
        "ds_info.features[\"label\"].names"
      ],
      "metadata": {
        "colab": {
          "base_uri": "https://localhost:8080/"
        },
        "id": "anWYXzk0XO8q",
        "outputId": "00b1c699-6ec0-4e80-f861-c376d9e5c092"
      },
      "execution_count": 10,
      "outputs": [
        {
          "output_type": "execute_result",
          "data": {
            "text/plain": [
              "['airplane',\n",
              " 'automobile',\n",
              " 'bird',\n",
              " 'cat',\n",
              " 'deer',\n",
              " 'dog',\n",
              " 'frog',\n",
              " 'horse',\n",
              " 'ship',\n",
              " 'truck']"
            ]
          },
          "metadata": {},
          "execution_count": 10
        }
      ]
    },
    {
      "cell_type": "code",
      "source": [
        "fig = tfds.show_examples(ds_train, ds_info)"
      ],
      "metadata": {
        "colab": {
          "base_uri": "https://localhost:8080/",
          "height": 534
        },
        "id": "nGm6kl-0XSt5",
        "outputId": "0b1f602b-d300-48bb-b82a-92ec5e532349"
      },
      "execution_count": 11,
      "outputs": [
        {
          "output_type": "display_data",
          "data": {
            "text/plain": [
              "<Figure size 648x648 with 9 Axes>"
            ],
            "image/png": "[encoded data removed]"
          },
          "metadata": {}
        }
      ]
    },
    {
      "cell_type": "code",
      "source": [
        "fig = tfds.show_examples(ds_test, ds_info)"
      ],
      "metadata": {
        "colab": {
          "base_uri": "https://localhost:8080/",
          "height": 534
        },
        "id": "YDrRX163XY-5",
        "outputId": "b6052cf5-7cb0-4f6d-d00d-9da9f4fc0139"
      },
      "execution_count": 12,
      "outputs": [
        {
          "output_type": "display_data",
          "data": {
            "text/plain": [
              "<Figure size 648x648 with 9 Axes>"
            ],
            "image/png": "[encoded data removed]"
          },
          "metadata": {}
        }
      ]
    },
    {
      "cell_type": "markdown",
      "source": [
        "# 3. Ablation Study 실습(2) - 블록 구성하기\n",
        "모델을 프로그램으로 구현하는 과정에서는 논문의 모델을 그대로 구현하는 것도 중요하지만, 구현 시에 반복되는 부분을 줄여서 하이퍼파라미터 혹은 변수를 변경하거나 모델 구조가 변경될 때 손쉽게 바꿀 수 있도록 만들어 놓는 과정이 필요하다.\n",
        "\n",
        "최근에 나오는 일반적인 딥러닝 모델에서 이렇게 주요 구조를 모듈화시켜 조금씩 바꿔 쓸 수 있는 단위를 블록(block) 이라고 한다. 레이어(layer) 는 기본적으로 텐서플로우(TensorFlow), 케라스(Keras), 파이토치(PyTorch) 등에서 기본적으로 제공하는 단위이다. 우리는 여기서 한 단계 위인 \"블록\"을 단위로 모델을 만들 수 있어야 한다.\n",
        "\n",
        "프로젝트로 구현할 ResNet을 보면 ResNet-18, 34, 50, 101, 152로 다섯 가지 네트워크가 있습니다. 각 네트워크를 하나씩 구현하는 방법도 있지만 매우 수고스럽고 변경사항이 생기면 모두 고쳐줘야 하는 불편함이 생기게 된다. 따라서 이후 실습에서 우리는 ResNet의 기본 구조인 블록을 만혀 구현하는 것이다.\n",
        "\n",
        "> ResNet을 바로 구현하는 것은 어려울 수 있으므로, 지금부터 조금 더 간단한 블록이 반복되는 VGG를 예시로 구현해 보겠습니다."
      ],
      "metadata": {
        "id": "JDg5LaFGpu7H"
      }
    },
    {
      "cell_type": "markdown",
      "source": [
        "## VGG 기본 블록 만들기"
      ],
      "metadata": {
        "id": "PQ61Dhi0qBpR"
      }
    },
    {
      "cell_type": "markdown",
      "source": [
        "![image.png](data:image/png;base64,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)"
      ],
      "metadata": {
        "id": "13OjDG8vp7r8"
      }
    },
    {
      "cell_type": "markdown",
      "source": [
        "VGG는 여러 가지 버전이 있다. 이 중 VGG의 VGG-16과 VGG-19의 기본 구조가 되는 블록을 만든다고 가정하고 블록을 구현해 보는 연습을 해 볼 것이다.\n",
        "\n",
        "블록을 구현하기 위해 모델 구조의 특징을 짚어본다. VGG의 블록은 개략적으로 CNN 레이어 여러 개와 Max pooling 레이어 한 개로 이루어진다. CNN은 모두 커널 크기가 3X3라는 대표적인 특징을 가지고 있다. 그리고 블록 내 CNN 레이어의 채널은 하나로 유지되지만 서로 다른 블록 간 CNN 레이어의 채널 수는 다를 수 있다. 블록에 따라서 CNN 레이어의 개수 또한 달라진다. 블록의 마지막에는 항상 Max Pooling 레이어가 붙는다. 따라서 우리의 블록은 CNN 레이어 여러 개와 Max pooling 레이어 한 개로 이루어질 것이고, CNN의 레이어 수와 채널을 조절할 수 있어야 한다.\n",
        "\n",
        "block_num은 레이어의 이름을 붙여주기 위해서 추가되었고 input_shape는 summary를 출력하기 위해서 넣어줬다."
      ],
      "metadata": {
        "id": "hEBemDkuqGWm"
      }
    },
    {
      "cell_type": "code",
      "source": [
        "# function for building VGG Block\n",
        "\n",
        "def build_vgg_block(input_layer,\n",
        "                    num_cnn=3, \n",
        "                    channel=64,\n",
        "                    block_num=1,\n",
        "                   ):\n",
        "    # 입력 레이어\n",
        "    x = input_layer\n",
        "\n",
        "    # CNN 레이어\n",
        "    for cnn_num in range(num_cnn):\n",
        "        x = keras.layers.Conv2D(\n",
        "            filters=channel,\n",
        "            kernel_size=(3,3),\n",
        "            activation='relu',\n",
        "            kernel_initializer='he_normal',\n",
        "            padding='same',\n",
        "            name=f'block{block_num}_conv{cnn_num}'\n",
        "        )(x)    \n",
        "\n",
        "    # Max Pooling 레이어\n",
        "    x = keras.layers.MaxPooling2D(\n",
        "        pool_size=(2, 2),\n",
        "        strides=2,\n",
        "        name=f'block{block_num}_pooling'\n",
        "    )(x)\n",
        "\n",
        "    return x"
      ],
      "metadata": {
        "id": "aokms1MGXiwS"
      },
      "execution_count": 13,
      "outputs": []
    },
    {
      "cell_type": "markdown",
      "source": [
        "이제 위에서 만든 VGG 블록을 추가하는 함수를 이용해서 input_layer에 추가를 해 본다. 입력 레이어는 아까 데이터셋에서 확인한 32,32의 가로 세로 크기를 가지고 채널로 3을 가지므로 (32,32,3)이 된다. 이 입력 레이어를 인자로 받아 build_vgg_block()는 블록의 레이어를 build하고 출력값을 얻을 수 있다. 이제 케라스의 Model 클래스에서 input과 output을 정의해 주면 간단히 블록의 모델을 확인해 볼 수 있다."
      ],
      "metadata": {
        "id": "1CSox30yqKGJ"
      }
    },
    {
      "cell_type": "code",
      "source": [
        "# 입력 레이어 생성\n",
        "vgg_input_layer = keras.layers.Input(shape=(32,32,3))\n",
        "\n",
        "# VGG 블록 생성\n",
        "vgg_block_output = build_vgg_block(vgg_input_layer)"
      ],
      "metadata": {
        "id": "x16BnijqYlVU"
      },
      "execution_count": 14,
      "outputs": []
    },
    {
      "cell_type": "code",
      "source": [
        "# 블록 1개짜리 model 생성\n",
        "model = keras.Model(inputs=vgg_input_layer, outputs=vgg_block_output)\n",
        "\n",
        "model.summary()"
      ],
      "metadata": {
        "colab": {
          "base_uri": "https://localhost:8080/"
        },
        "id": "Z6Z1OvGbY8fx",
        "outputId": "ba2bca15-445d-40fc-d361-ec59f2c295f2"
      },
      "execution_count": 15,
      "outputs": [
        {
          "output_type": "stream",
          "name": "stdout",
          "text": [
            "Model: \"model\"\n",
            "_________________________________________________________________\n",
            " Layer (type)                Output Shape              Param #   \n",
            "=================================================================\n",
            " input_1 (InputLayer)        [(None, 32, 32, 3)]       0         \n",
            "                                                                 \n",
            " block1_conv0 (Conv2D)       (None, 32, 32, 64)        1792      \n",
            "                                                                 \n",
            " block1_conv1 (Conv2D)       (None, 32, 32, 64)        36928     \n",
            "                                                                 \n",
            " block1_conv2 (Conv2D)       (None, 32, 32, 64)        36928     \n",
            "                                                                 \n",
            " block1_pooling (MaxPooling2  (None, 16, 16, 64)       0         \n",
            " D)                                                              \n",
            "                                                                 \n",
            "=================================================================\n",
            "Total params: 75,648\n",
            "Trainable params: 75,648\n",
            "Non-trainable params: 0\n",
            "_________________________________________________________________\n"
          ]
        }
      ]
    },
    {
      "cell_type": "markdown",
      "source": [
        "# 4. Ablation Study 실습 (3) - VGG Complete Model\n",
        "\n",
        "조금 전의 과정을 통해 기본적인 블록을 만들 수 있는 함수를 만들었기 때문에 이제는 이를 합쳐서 전체 모델을 만들 수 있는 함수를 만들어 볼 수 있을 것이다. 고고~~\n",
        "\n",
        "## 1) VGG-16\n",
        "먼저 작은 네트워크인 VGG-16을 만들어 볼 것이다. 블록 내의 CNN 레이어 수와 채널 수는 블록마다 달라딘다. 이는 VGG-16과 VGG-19에 따라서 같이 변화되므로 함수에 전달되어야 한다. 여기서는 각 블록 별 CNN의 수와 채널을 리스트로 전달했다."
      ],
      "metadata": {
        "id": "6amg9hAoqT5U"
      }
    },
    {
      "cell_type": "code",
      "source": [
        "# VGG 모델 자체를 생성하는 함수\n",
        "def build_vgg(input_shape=(32,32,3),\n",
        "              num_cnn_list=[2,2,3,3,3],\n",
        "              channel_list=[64, 128, 256, 512, 512],\n",
        "              num_classes=10):\n",
        "    # 모델을 만들기 전에 config list들이 같은 길이인지 확인\n",
        "    assert len(num_cnn_list) == len(channel_list)\n",
        "\n",
        "    # input layer 만들어 두기\n",
        "    input_layer = keras.layers.Input(shape=input_shape)\n",
        "    output = input_layer\n",
        "\n",
        "    # config list들의 길이만큼 반복해서 블록을 생성한다.\n",
        "    for i, (num_cnn, channel) in enumerate(zip(num_cnn_list, channel_list)):\n",
        "        output = build_vgg_block(\n",
        "            output,\n",
        "            num_cnn = num_cnn,\n",
        "            channel = channel,\n",
        "            block_num = i\n",
        "        )\n",
        "\n",
        "    output = keras.layers.Flatten(name='flatten')(output)\n",
        "    output = keras.layers.Dense(4096, activation='relu', name='fc1')(output)\n",
        "    output = keras.layers.Dense(4096, activation='relu', name='fc2')(output)\n",
        "    output = keras.layers.Dense(num_classes, activation='softmax', name='predictions')(output)\n",
        "\n",
        "    model = keras.Model(\n",
        "        inputs = input_layer,\n",
        "        outputs=output\n",
        "    )\n",
        "\n",
        "    return model"
      ],
      "metadata": {
        "id": "FtC7Kj_8ZL1B"
      },
      "execution_count": 16,
      "outputs": []
    },
    {
      "cell_type": "code",
      "source": [
        "# 기본값을 그대로 사용해서 VGG 모델을 만들면 VGG-16이 된다.\n",
        "vgg_16 = build_vgg()\n",
        "\n",
        "vgg_16.summary()"
      ],
      "metadata": {
        "colab": {
          "base_uri": "https://localhost:8080/"
        },
        "id": "yvq5jIzpen8w",
        "outputId": "e0da3d05-8dfe-4359-9626-cbbd7f712212"
      },
      "execution_count": 17,
      "outputs": [
        {
          "output_type": "stream",
          "name": "stdout",
          "text": [
            "Model: \"model_1\"\n",
            "_________________________________________________________________\n",
            " Layer (type)                Output Shape              Param #   \n",
            "=================================================================\n",
            " input_2 (InputLayer)        [(None, 32, 32, 3)]       0         \n",
            "                                                                 \n",
            " block0_conv0 (Conv2D)       (None, 32, 32, 64)        1792      \n",
            "                                                                 \n",
            " block0_conv1 (Conv2D)       (None, 32, 32, 64)        36928     \n",
            "                                                                 \n",
            " block0_pooling (MaxPooling2  (None, 16, 16, 64)       0         \n",
            " D)                                                              \n",
            "                                                                 \n",
            " block1_conv0 (Conv2D)       (None, 16, 16, 128)       73856     \n",
            "                                                                 \n",
            " block1_conv1 (Conv2D)       (None, 16, 16, 128)       147584    \n",
            "                                                                 \n",
            " block1_pooling (MaxPooling2  (None, 8, 8, 128)        0         \n",
            " D)                                                              \n",
            "                                                                 \n",
            " block2_conv0 (Conv2D)       (None, 8, 8, 256)         295168    \n",
            "                                                                 \n",
            " block2_conv1 (Conv2D)       (None, 8, 8, 256)         590080    \n",
            "                                                                 \n",
            " block2_conv2 (Conv2D)       (None, 8, 8, 256)         590080    \n",
            "                                                                 \n",
            " block2_pooling (MaxPooling2  (None, 4, 4, 256)        0         \n",
            " D)                                                              \n",
            "                                                                 \n",
            " block3_conv0 (Conv2D)       (None, 4, 4, 512)         1180160   \n",
            "                                                                 \n",
            " block3_conv1 (Conv2D)       (None, 4, 4, 512)         2359808   \n",
            "                                                                 \n",
            " block3_conv2 (Conv2D)       (None, 4, 4, 512)         2359808   \n",
            "                                                                 \n",
            " block3_pooling (MaxPooling2  (None, 2, 2, 512)        0         \n",
            " D)                                                              \n",
            "                                                                 \n",
            " block4_conv0 (Conv2D)       (None, 2, 2, 512)         2359808   \n",
            "                                                                 \n",
            " block4_conv1 (Conv2D)       (None, 2, 2, 512)         2359808   \n",
            "                                                                 \n",
            " block4_conv2 (Conv2D)       (None, 2, 2, 512)         2359808   \n",
            "                                                                 \n",
            " block4_pooling (MaxPooling2  (None, 1, 1, 512)        0         \n",
            " D)                                                              \n",
            "                                                                 \n",
            " flatten (Flatten)           (None, 512)               0         \n",
            "                                                                 \n",
            " fc1 (Dense)                 (None, 4096)              2101248   \n",
            "                                                                 \n",
            " fc2 (Dense)                 (None, 4096)              16781312  \n",
            "                                                                 \n",
            " predictions (Dense)         (None, 10)                40970     \n",
            "                                                                 \n",
            "=================================================================\n",
            "Total params: 33,638,218\n",
            "Trainable params: 33,638,218\n",
            "Non-trainable params: 0\n",
            "_________________________________________________________________\n"
          ]
        }
      ]
    },
    {
      "cell_type": "code",
      "source": [
        "# 원하는 블록의 설계에 따라 매개변수로 리스트를 전달해 준다.\n",
        "vgg_19 = build_vgg(\n",
        "    num_cnn_list = [2,2,4,4,4],\n",
        "    channel_list = [64, 128, 256, 512, 512]\n",
        ")\n",
        "\n",
        "vgg_19.summary()"
      ],
      "metadata": {
        "colab": {
          "base_uri": "https://localhost:8080/"
        },
        "id": "IfBGvo24e5c4",
        "outputId": "92eff60f-e44c-4267-89fc-daf89acf81cc"
      },
      "execution_count": 18,
      "outputs": [
        {
          "output_type": "stream",
          "name": "stdout",
          "text": [
            "Model: \"model_2\"\n",
            "_________________________________________________________________\n",
            " Layer (type)                Output Shape              Param #   \n",
            "=================================================================\n",
            " input_3 (InputLayer)        [(None, 32, 32, 3)]       0         \n",
            "                                                                 \n",
            " block0_conv0 (Conv2D)       (None, 32, 32, 64)        1792      \n",
            "                                                                 \n",
            " block0_conv1 (Conv2D)       (None, 32, 32, 64)        36928     \n",
            "                                                                 \n",
            " block0_pooling (MaxPooling2  (None, 16, 16, 64)       0         \n",
            " D)                                                              \n",
            "                                                                 \n",
            " block1_conv0 (Conv2D)       (None, 16, 16, 128)       73856     \n",
            "                                                                 \n",
            " block1_conv1 (Conv2D)       (None, 16, 16, 128)       147584    \n",
            "                                                                 \n",
            " block1_pooling (MaxPooling2  (None, 8, 8, 128)        0         \n",
            " D)                                                              \n",
            "                                                                 \n",
            " block2_conv0 (Conv2D)       (None, 8, 8, 256)         295168    \n",
            "                                                                 \n",
            " block2_conv1 (Conv2D)       (None, 8, 8, 256)         590080    \n",
            "                                                                 \n",
            " block2_conv2 (Conv2D)       (None, 8, 8, 256)         590080    \n",
            "                                                                 \n",
            " block2_conv3 (Conv2D)       (None, 8, 8, 256)         590080    \n",
            "                                                                 \n",
            " block2_pooling (MaxPooling2  (None, 4, 4, 256)        0         \n",
            " D)                                                              \n",
            "                                                                 \n",
            " block3_conv0 (Conv2D)       (None, 4, 4, 512)         1180160   \n",
            "                                                                 \n",
            " block3_conv1 (Conv2D)       (None, 4, 4, 512)         2359808   \n",
            "                                                                 \n",
            " block3_conv2 (Conv2D)       (None, 4, 4, 512)         2359808   \n",
            "                                                                 \n",
            " block3_conv3 (Conv2D)       (None, 4, 4, 512)         2359808   \n",
            "                                                                 \n",
            " block3_pooling (MaxPooling2  (None, 2, 2, 512)        0         \n",
            " D)                                                              \n",
            "                                                                 \n",
            " block4_conv0 (Conv2D)       (None, 2, 2, 512)         2359808   \n",
            "                                                                 \n",
            " block4_conv1 (Conv2D)       (None, 2, 2, 512)         2359808   \n",
            "                                                                 \n",
            " block4_conv2 (Conv2D)       (None, 2, 2, 512)         2359808   \n",
            "                                                                 \n",
            " block4_conv3 (Conv2D)       (None, 2, 2, 512)         2359808   \n",
            "                                                                 \n",
            " block4_pooling (MaxPooling2  (None, 1, 1, 512)        0         \n",
            " D)                                                              \n",
            "                                                                 \n",
            " flatten (Flatten)           (None, 512)               0         \n",
            "                                                                 \n",
            " fc1 (Dense)                 (None, 4096)              2101248   \n",
            "                                                                 \n",
            " fc2 (Dense)                 (None, 4096)              16781312  \n",
            "                                                                 \n",
            " predictions (Dense)         (None, 10)                40970     \n",
            "                                                                 \n",
            "=================================================================\n",
            "Total params: 38,947,914\n",
            "Trainable params: 38,947,914\n",
            "Non-trainable params: 0\n",
            "_________________________________________________________________\n"
          ]
        }
      ]
    },
    {
      "cell_type": "markdown",
      "source": [
        "# 5. Ablation Study 실습 (4) - VGG-16 vs VGG-19\n",
        "\n",
        "이제 본격적으로 위에서 준비한 데이터셋과 모델의 성능 비교를 위해서 모델을 훈련하고 평가한다.\n",
        "\n",
        "VGG는 레이어의 차이를 위해서 VGG-16과 VGG-19를 비교해 보도록 할 것이다.\n",
        "\n",
        "우선 CIFAR-10 데이터셋을 불러온다."
      ],
      "metadata": {
        "id": "LIgYoZSVqgNr"
      }
    },
    {
      "cell_type": "code",
      "source": [
        "BATCH_SIZE = 256\n",
        "EPOCH = 40"
      ],
      "metadata": {
        "id": "LlWys55Qfczw"
      },
      "execution_count": 19,
      "outputs": []
    },
    {
      "cell_type": "code",
      "source": [
        "(ds_train, ds_test), ds_info = tfds.load(\n",
        "    'cifar10',\n",
        "    split = ['train', 'test'],\n",
        "    as_supervised=True,\n",
        "    shuffle_files=True,\n",
        "    with_info=True,\n",
        ")\n",
        "ds_train = apply_normalize_on_dataset(ds_train, batch_size=BATCH_SIZE)\n",
        "ds_test = apply_normalize_on_dataset(ds_test, batch_size=BATCH_SIZE)"
      ],
      "metadata": {
        "id": "3c-TQvtpPe4d"
      },
      "execution_count": 20,
      "outputs": []
    },
    {
      "cell_type": "markdown",
      "source": [
        "VGG-16 모델을 만들고 훈련시킨다.\n",
        "\n",
        ">❗잠깐   \n",
        "이 작업은 상당한 시간이 소요된다. BATCH_SIZE가 커지면 소요시간이 좀 줄어드는 효과가 있겠지만, 1epoch당 1분씩 소요될 수 있다. 이 훈련은 40Epoch 정도 수행하는 것을 권장하지만, 15Epoch 정도로도 어느 정도 근접하는 성능을 얻을 수는 있다."
      ],
      "metadata": {
        "id": "gjRQyYIVqzQ2"
      }
    },
    {
      "cell_type": "code",
      "source": [
        "vgg_16.compile(\n",
        "    loss = 'sparse_categorical_crossentropy',\n",
        "    optimizer=tf.keras.optimizers.SGD(lr=0.01, clipnorm=1.),\n",
        "    metrics=['accuracy'],\n",
        ")\n",
        "\n",
        "history_16 = vgg_16.fit(\n",
        "    ds_train,\n",
        "    steps_per_epoch=int(ds_info.splits['train'].num_examples/BATCH_SIZE),\n",
        "    validation_steps=int(ds_info.splits['test'].num_examples/BATCH_SIZE),\n",
        "    epochs=EPOCH,\n",
        "    validation_data=ds_test,\n",
        "    verbose=1,\n",
        "    use_multiprocessing=True,\n",
        ")"
      ],
      "metadata": {
        "colab": {
          "base_uri": "https://localhost:8080/"
        },
        "id": "I119Ey5AQPny",
        "outputId": "155fa711-1241-4662-c490-dd54c78a7473"
      },
      "execution_count": 21,
      "outputs": [
        {
          "output_type": "stream",
          "name": "stdout",
          "text": [
            "Epoch 1/40\n"
          ]
        },
        {
          "output_type": "stream",
          "name": "stderr",
          "text": [
            "/usr/local/lib/python3.7/dist-packages/keras/optimizer_v2/gradient_descent.py:102: UserWarning: The `lr` argument is deprecated, use `learning_rate` instead.\n",
            "  super(SGD, self).__init__(name, **kwargs)\n"
          ]
        },
        {
          "output_type": "stream",
          "name": "stdout",
          "text": [
            "195/195 [==============================] - 29s 49ms/step - loss: 2.1866 - accuracy: 0.1886 - val_loss: 2.0636 - val_accuracy: 0.2685\n",
            "Epoch 2/40\n",
            "195/195 [==============================] - 8s 43ms/step - loss: 2.0096 - accuracy: 0.2744 - val_loss: 1.9315 - val_accuracy: 0.3275\n",
            "Epoch 3/40\n",
            "195/195 [==============================] - 8s 43ms/step - loss: 1.8810 - accuracy: 0.3229 - val_loss: 1.8360 - val_accuracy: 0.3500\n",
            "Epoch 4/40\n",
            "195/195 [==============================] - 8s 43ms/step - loss: 1.7796 - accuracy: 0.3647 - val_loss: 1.7298 - val_accuracy: 0.3841\n",
            "Epoch 5/40\n",
            "195/195 [==============================] - 8s 43ms/step - loss: 1.6965 - accuracy: 0.3915 - val_loss: 1.6399 - val_accuracy: 0.4091\n",
            "Epoch 6/40\n",
            "195/195 [==============================] - 8s 43ms/step - loss: 1.6227 - accuracy: 0.4156 - val_loss: 1.5873 - val_accuracy: 0.4374\n",
            "Epoch 7/40\n",
            "195/195 [==============================] - 8s 43ms/step - loss: 1.5758 - accuracy: 0.4343 - val_loss: 1.5394 - val_accuracy: 0.4544\n",
            "Epoch 8/40\n",
            "195/195 [==============================] - 8s 43ms/step - loss: 1.5182 - accuracy: 0.4562 - val_loss: 1.4621 - val_accuracy: 0.4753\n",
            "Epoch 9/40\n",
            "195/195 [==============================] - 8s 44ms/step - loss: 1.4811 - accuracy: 0.4675 - val_loss: 1.4623 - val_accuracy: 0.4888\n",
            "Epoch 10/40\n",
            "195/195 [==============================] - 8s 43ms/step - loss: 1.4322 - accuracy: 0.4852 - val_loss: 1.3957 - val_accuracy: 0.4998\n",
            "Epoch 11/40\n",
            "195/195 [==============================] - 8s 43ms/step - loss: 1.3920 - accuracy: 0.5004 - val_loss: 1.3852 - val_accuracy: 0.5075\n",
            "Epoch 12/40\n",
            "195/195 [==============================] - 8s 42ms/step - loss: 1.3644 - accuracy: 0.5121 - val_loss: 1.3475 - val_accuracy: 0.5142\n",
            "Epoch 13/40\n",
            "195/195 [==============================] - 8s 43ms/step - loss: 1.3247 - accuracy: 0.5241 - val_loss: 1.3507 - val_accuracy: 0.5163\n",
            "Epoch 14/40\n",
            "195/195 [==============================] - 8s 43ms/step - loss: 1.2849 - accuracy: 0.5374 - val_loss: 1.3023 - val_accuracy: 0.5380\n",
            "Epoch 15/40\n",
            "195/195 [==============================] - 8s 43ms/step - loss: 1.2566 - accuracy: 0.5509 - val_loss: 1.2750 - val_accuracy: 0.5355\n",
            "Epoch 16/40\n",
            "195/195 [==============================] - 8s 43ms/step - loss: 1.2211 - accuracy: 0.5638 - val_loss: 1.2622 - val_accuracy: 0.5471\n",
            "Epoch 17/40\n",
            "195/195 [==============================] - 8s 43ms/step - loss: 1.1946 - accuracy: 0.5727 - val_loss: 1.2758 - val_accuracy: 0.5564\n",
            "Epoch 18/40\n",
            "195/195 [==============================] - 8s 42ms/step - loss: 1.1628 - accuracy: 0.5870 - val_loss: 1.2376 - val_accuracy: 0.5549\n",
            "Epoch 19/40\n",
            "195/195 [==============================] - 8s 43ms/step - loss: 1.1318 - accuracy: 0.5980 - val_loss: 1.2041 - val_accuracy: 0.5744\n",
            "Epoch 20/40\n",
            "195/195 [==============================] - 8s 43ms/step - loss: 1.0989 - accuracy: 0.6101 - val_loss: 1.2226 - val_accuracy: 0.5810\n",
            "Epoch 21/40\n",
            "195/195 [==============================] - 8s 43ms/step - loss: 1.0798 - accuracy: 0.6166 - val_loss: 1.1774 - val_accuracy: 0.5925\n",
            "Epoch 22/40\n",
            "195/195 [==============================] - 8s 43ms/step - loss: 1.0487 - accuracy: 0.6275 - val_loss: 1.1657 - val_accuracy: 0.5888\n",
            "Epoch 23/40\n",
            "195/195 [==============================] - 9s 44ms/step - loss: 1.0232 - accuracy: 0.6372 - val_loss: 1.1384 - val_accuracy: 0.6014\n",
            "Epoch 24/40\n",
            "195/195 [==============================] - 9s 44ms/step - loss: 0.9893 - accuracy: 0.6490 - val_loss: 1.0923 - val_accuracy: 0.6191\n",
            "Epoch 25/40\n",
            "195/195 [==============================] - 8s 43ms/step - loss: 0.9674 - accuracy: 0.6593 - val_loss: 1.1103 - val_accuracy: 0.6123\n",
            "Epoch 26/40\n",
            "195/195 [==============================] - 8s 43ms/step - loss: 0.9445 - accuracy: 0.6674 - val_loss: 1.1330 - val_accuracy: 0.6111\n",
            "Epoch 27/40\n",
            "195/195 [==============================] - 8s 43ms/step - loss: 0.9192 - accuracy: 0.6747 - val_loss: 1.0916 - val_accuracy: 0.6190\n",
            "Epoch 28/40\n",
            "195/195 [==============================] - 8s 42ms/step - loss: 0.8931 - accuracy: 0.6840 - val_loss: 1.0814 - val_accuracy: 0.6236\n",
            "Epoch 29/40\n",
            "195/195 [==============================] - 8s 43ms/step - loss: 0.8742 - accuracy: 0.6914 - val_loss: 1.0491 - val_accuracy: 0.6234\n",
            "Epoch 30/40\n",
            "195/195 [==============================] - 8s 43ms/step - loss: 0.8424 - accuracy: 0.7064 - val_loss: 1.0726 - val_accuracy: 0.6193\n",
            "Epoch 31/40\n",
            "195/195 [==============================] - 8s 43ms/step - loss: 0.8177 - accuracy: 0.7121 - val_loss: 1.0601 - val_accuracy: 0.6290\n",
            "Epoch 32/40\n",
            "195/195 [==============================] - 8s 43ms/step - loss: 0.8038 - accuracy: 0.7170 - val_loss: 1.0622 - val_accuracy: 0.6450\n",
            "Epoch 33/40\n",
            "195/195 [==============================] - 8s 43ms/step - loss: 0.7742 - accuracy: 0.7287 - val_loss: 1.0831 - val_accuracy: 0.6300\n",
            "Epoch 34/40\n",
            "195/195 [==============================] - 8s 43ms/step - loss: 0.7464 - accuracy: 0.7375 - val_loss: 1.0645 - val_accuracy: 0.6326\n",
            "Epoch 35/40\n",
            "195/195 [==============================] - 8s 43ms/step - loss: 0.7316 - accuracy: 0.7420 - val_loss: 1.0487 - val_accuracy: 0.6503\n",
            "Epoch 36/40\n",
            "195/195 [==============================] - 8s 42ms/step - loss: 0.7088 - accuracy: 0.7534 - val_loss: 1.0328 - val_accuracy: 0.6471\n",
            "Epoch 37/40\n",
            "195/195 [==============================] - 8s 42ms/step - loss: 0.6750 - accuracy: 0.7616 - val_loss: 1.0983 - val_accuracy: 0.6313\n",
            "Epoch 38/40\n",
            "195/195 [==============================] - 8s 43ms/step - loss: 0.6643 - accuracy: 0.7677 - val_loss: 1.0585 - val_accuracy: 0.6530\n",
            "Epoch 39/40\n",
            "195/195 [==============================] - 8s 43ms/step - loss: 0.6329 - accuracy: 0.7754 - val_loss: 1.0456 - val_accuracy: 0.6577\n",
            "Epoch 40/40\n",
            "195/195 [==============================] - 8s 43ms/step - loss: 0.6049 - accuracy: 0.7895 - val_loss: 1.0488 - val_accuracy: 0.6568\n"
          ]
        }
      ]
    },
    {
      "cell_type": "markdown",
      "source": [
        "이런 식으로 VGG-19 역시 모델을 만들고 훈련시켜 주면 된다.\n",
        "\n",
        "> 단, 파라ㅣ터가 더 많은 VGG-19는 VGG-16보다 훈련 시간이 더 걸린다. EPOCH 수나 BATCH_SIZE를 잘 조절해야 한다."
      ],
      "metadata": {
        "id": "jHvfJYLWq5lS"
      }
    },
    {
      "cell_type": "code",
      "source": [
        "from tensorflow_datasets.core.dataset_utils import Tree\n",
        "vgg_19.compile(\n",
        "    loss='sparse_categorical_crossentropy',\n",
        "    optimizer=tf.keras.optimizers.SGD(lr=0.01, clipnorm=1.),\n",
        "    metrics=['accuracy'],\n",
        ")\n",
        "\n",
        "history_19 = vgg_19.fit(\n",
        "    ds_train,\n",
        "    steps_per_epoch=int(ds_info.splits['train'].num_examples/BATCH_SIZE),\n",
        "    validation_steps=int(ds_info.splits['test'].num_examples/BATCH_SIZE),\n",
        "    epochs=EPOCH,\n",
        "    validation_data=ds_test,\n",
        "    verbose=1,\n",
        "    use_multiprocessing=True,\n",
        ")"
      ],
      "metadata": {
        "colab": {
          "base_uri": "https://localhost:8080/"
        },
        "id": "2nkk33p6Sx8Z",
        "outputId": "630299c9-b4dd-4631-afd0-d53c1809fcc7"
      },
      "execution_count": 22,
      "outputs": [
        {
          "output_type": "stream",
          "name": "stdout",
          "text": [
            "Epoch 1/40\n",
            "195/195 [==============================] - 14s 48ms/step - loss: 2.2327 - accuracy: 0.1597 - val_loss: 2.1502 - val_accuracy: 0.1875\n",
            "Epoch 2/40\n",
            "195/195 [==============================] - 9s 47ms/step - loss: 2.0655 - accuracy: 0.2444 - val_loss: 1.9720 - val_accuracy: 0.2981\n",
            "Epoch 3/40\n",
            "195/195 [==============================] - 9s 47ms/step - loss: 1.9287 - accuracy: 0.3034 - val_loss: 1.8643 - val_accuracy: 0.3388\n",
            "Epoch 4/40\n",
            "195/195 [==============================] - 9s 47ms/step - loss: 1.8044 - accuracy: 0.3474 - val_loss: 1.7431 - val_accuracy: 0.3784\n",
            "Epoch 5/40\n",
            "195/195 [==============================] - 9s 47ms/step - loss: 1.6982 - accuracy: 0.3863 - val_loss: 1.6394 - val_accuracy: 0.4128\n",
            "Epoch 6/40\n",
            "195/195 [==============================] - 9s 47ms/step - loss: 1.6326 - accuracy: 0.4087 - val_loss: 1.5732 - val_accuracy: 0.4308\n",
            "Epoch 7/40\n",
            "195/195 [==============================] - 9s 47ms/step - loss: 1.5698 - accuracy: 0.4333 - val_loss: 1.5547 - val_accuracy: 0.4385\n",
            "Epoch 8/40\n",
            "195/195 [==============================] - 9s 47ms/step - loss: 1.5229 - accuracy: 0.4524 - val_loss: 1.5077 - val_accuracy: 0.4554\n",
            "Epoch 9/40\n",
            "195/195 [==============================] - 9s 46ms/step - loss: 1.4742 - accuracy: 0.4669 - val_loss: 1.4716 - val_accuracy: 0.4624\n",
            "Epoch 10/40\n",
            "195/195 [==============================] - 9s 46ms/step - loss: 1.4186 - accuracy: 0.4872 - val_loss: 1.4277 - val_accuracy: 0.4947\n",
            "Epoch 11/40\n",
            "195/195 [==============================] - 9s 47ms/step - loss: 1.3736 - accuracy: 0.5054 - val_loss: 1.4331 - val_accuracy: 0.4904\n",
            "Epoch 12/40\n",
            "195/195 [==============================] - 9s 47ms/step - loss: 1.3354 - accuracy: 0.5235 - val_loss: 1.3357 - val_accuracy: 0.5272\n",
            "Epoch 13/40\n",
            "195/195 [==============================] - 9s 47ms/step - loss: 1.2889 - accuracy: 0.5362 - val_loss: 1.3087 - val_accuracy: 0.5327\n",
            "Epoch 14/40\n",
            "195/195 [==============================] - 9s 47ms/step - loss: 1.2520 - accuracy: 0.5522 - val_loss: 1.3133 - val_accuracy: 0.5331\n",
            "Epoch 15/40\n",
            "195/195 [==============================] - 9s 46ms/step - loss: 1.2103 - accuracy: 0.5672 - val_loss: 1.2727 - val_accuracy: 0.5454\n",
            "Epoch 16/40\n",
            "195/195 [==============================] - 9s 47ms/step - loss: 1.1810 - accuracy: 0.5768 - val_loss: 1.1938 - val_accuracy: 0.5752\n",
            "Epoch 17/40\n",
            "195/195 [==============================] - 9s 47ms/step - loss: 1.1456 - accuracy: 0.5919 - val_loss: 1.2034 - val_accuracy: 0.5787\n",
            "Epoch 18/40\n",
            "195/195 [==============================] - 9s 47ms/step - loss: 1.1129 - accuracy: 0.6062 - val_loss: 1.1831 - val_accuracy: 0.5777\n",
            "Epoch 19/40\n",
            "195/195 [==============================] - 9s 47ms/step - loss: 1.0867 - accuracy: 0.6129 - val_loss: 1.1754 - val_accuracy: 0.5859\n",
            "Epoch 20/40\n",
            "195/195 [==============================] - 9s 47ms/step - loss: 1.0495 - accuracy: 0.6265 - val_loss: 1.1076 - val_accuracy: 0.6099\n",
            "Epoch 21/40\n",
            "195/195 [==============================] - 9s 46ms/step - loss: 1.0198 - accuracy: 0.6376 - val_loss: 1.1127 - val_accuracy: 0.6057\n",
            "Epoch 22/40\n",
            "195/195 [==============================] - 9s 46ms/step - loss: 1.0000 - accuracy: 0.6441 - val_loss: 1.0894 - val_accuracy: 0.6187\n",
            "Epoch 23/40\n",
            "195/195 [==============================] - 9s 47ms/step - loss: 0.9661 - accuracy: 0.6555 - val_loss: 1.1175 - val_accuracy: 0.6111\n",
            "Epoch 24/40\n",
            "195/195 [==============================] - 9s 47ms/step - loss: 0.9300 - accuracy: 0.6704 - val_loss: 1.0899 - val_accuracy: 0.6072\n",
            "Epoch 25/40\n",
            "195/195 [==============================] - 9s 46ms/step - loss: 0.9068 - accuracy: 0.6796 - val_loss: 1.0848 - val_accuracy: 0.6205\n",
            "Epoch 26/40\n",
            "195/195 [==============================] - 9s 47ms/step - loss: 0.8822 - accuracy: 0.6869 - val_loss: 1.0414 - val_accuracy: 0.6443\n",
            "Epoch 27/40\n",
            "195/195 [==============================] - 9s 47ms/step - loss: 0.8554 - accuracy: 0.6978 - val_loss: 1.0547 - val_accuracy: 0.6296\n",
            "Epoch 28/40\n",
            "195/195 [==============================] - 9s 47ms/step - loss: 0.8282 - accuracy: 0.7060 - val_loss: 1.0934 - val_accuracy: 0.6328\n",
            "Epoch 29/40\n",
            "195/195 [==============================] - 9s 46ms/step - loss: 0.8006 - accuracy: 0.7185 - val_loss: 1.0875 - val_accuracy: 0.6232\n",
            "Epoch 30/40\n",
            "195/195 [==============================] - 9s 47ms/step - loss: 0.7708 - accuracy: 0.7264 - val_loss: 1.0712 - val_accuracy: 0.6342\n",
            "Epoch 31/40\n",
            "195/195 [==============================] - 9s 46ms/step - loss: 0.7477 - accuracy: 0.7366 - val_loss: 1.0681 - val_accuracy: 0.6412\n",
            "Epoch 32/40\n",
            "195/195 [==============================] - 9s 46ms/step - loss: 0.7169 - accuracy: 0.7451 - val_loss: 1.0615 - val_accuracy: 0.6376\n",
            "Epoch 33/40\n",
            "195/195 [==============================] - 9s 47ms/step - loss: 0.6913 - accuracy: 0.7572 - val_loss: 1.0289 - val_accuracy: 0.6571\n",
            "Epoch 34/40\n",
            "195/195 [==============================] - 9s 46ms/step - loss: 0.6663 - accuracy: 0.7627 - val_loss: 1.0934 - val_accuracy: 0.6366\n",
            "Epoch 35/40\n",
            "195/195 [==============================] - 9s 47ms/step - loss: 0.6348 - accuracy: 0.7760 - val_loss: 1.0609 - val_accuracy: 0.6466\n",
            "Epoch 36/40\n",
            "195/195 [==============================] - 9s 47ms/step - loss: 0.6024 - accuracy: 0.7874 - val_loss: 1.0675 - val_accuracy: 0.6511\n",
            "Epoch 37/40\n",
            "195/195 [==============================] - 9s 47ms/step - loss: 0.5856 - accuracy: 0.7946 - val_loss: 1.0833 - val_accuracy: 0.6597\n",
            "Epoch 38/40\n",
            "195/195 [==============================] - 9s 47ms/step - loss: 0.5505 - accuracy: 0.8060 - val_loss: 1.0531 - val_accuracy: 0.6557\n",
            "Epoch 39/40\n",
            "195/195 [==============================] - 9s 47ms/step - loss: 0.5257 - accuracy: 0.8144 - val_loss: 1.1159 - val_accuracy: 0.6461\n",
            "Epoch 40/40\n",
            "195/195 [==============================] - 9s 46ms/step - loss: 0.4956 - accuracy: 0.8256 - val_loss: 1.1462 - val_accuracy: 0.6428\n"
          ]
        }
      ]
    },
    {
      "cell_type": "markdown",
      "source": [
        "학습을 모두 마쳤으니 이제 VGG-16과 VGG-19를 비교해 볼 수 있다!! 결과가 어떻게 나왔는지 그래프를 통해 비교해 본다. 먼저 훈련 손실에 관해서~~"
      ],
      "metadata": {
        "id": "MD_-fat3rApT"
      }
    },
    {
      "cell_type": "code",
      "source": [
        "import matplotlib.pyplot as plt\n",
        "\n",
        "plt.plot(history_16.history['loss'], 'r')\n",
        "plt.plot(history_19.history['loss'], 'b')\n",
        "plt.title('Model training loss')\n",
        "plt.ylabel('Loss')\n",
        "plt.xlabel('Epoch')\n",
        "plt.legend(['vgg_16', 'vgg_19'], loc='upper left')\n",
        "plt.show()"
      ],
      "metadata": {
        "colab": {
          "base_uri": "https://localhost:8080/",
          "height": 295
        },
        "id": "wujQq5mZT-3n",
        "outputId": "f91a8393-0817-40ab-fad9-3bd028769772"
      },
      "execution_count": 23,
      "outputs": [
        {
          "output_type": "display_data",
          "data": {
            "text/plain": [
              "<Figure size 432x288 with 1 Axes>"
            ],
            "image/png": "[encoded data removed]"
          },
          "metadata": {
            "needs_background": "light"
          }
        }
      ]
    },
    {
      "cell_type": "markdown",
      "source": [
        "그 다음으로는 정확도에 관해서~~"
      ],
      "metadata": {
        "id": "NhHHRbpnrPxy"
      }
    },
    {
      "cell_type": "code",
      "source": [
        "plt.plot(history_16.history['val_accuracy'], 'r')\n",
        "plt.plot(history_19.history['val_accuracy'], 'b')\n",
        "plt.title('Model validation accuracy')\n",
        "plt.ylabel('Accuracy')\n",
        "plt.xlabel('Epoch')\n",
        "plt.legend(['vgg_16', 'vgg_19'], loc='upper left')\n",
        "plt.show()"
      ],
      "metadata": {
        "colab": {
          "base_uri": "https://localhost:8080/",
          "height": 295
        },
        "id": "1JkV2ClKU4HG",
        "outputId": "b6d37357-6620-4c3a-d99d-00b80a8a5b1e"
      },
      "execution_count": 24,
      "outputs": [
        {
          "output_type": "display_data",
          "data": {
            "text/plain": [
              "<Figure size 432x288 with 1 Axes>"
            ],
            "image/png": "[encoded data removed]"
          },
          "metadata": {
            "needs_background": "light"
          }
        }
      ]
    },
    {
      "cell_type": "markdown",
      "source": [
        "손실로만 본다면 VGG-19가 좀 더 나아 보였는데, 정확도를 잣대로 비교해 보니까 그래프가 비슷비슷한 양상을 띠는 거 같다!! 아무튼 미션 Clear~~\n",
        "\n",
        "VGG 설계를 토대로 드디어 대망의 첫 프로젝트 ResNet 모델 설계가 나를 기다리고 있다. 도전하러 가즈아~~"
      ],
      "metadata": {
        "id": "bjO0dV5FrUNm"
      }
    }
  ]
}
